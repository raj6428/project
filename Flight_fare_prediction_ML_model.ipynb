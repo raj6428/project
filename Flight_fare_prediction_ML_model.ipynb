{
 "cells": [
  {
   "cell_type": "raw",
   "id": "12a2003f",
   "metadata": {},
   "source": [
    "Anyone who has booked a flight ticket knows how unexpectedly the prices vary. The cheapest\n",
    "available ticket on a given flight gets more and less expensive over time. This usually happens as\n",
    "an attempt to maximize revenue based on -\n",
    "1. Time of purchase patterns (making sure last-minute purchases are expensive)\n",
    "2. Keeping the flight as full as they want it (raising prices on a flight which is filling up in order\n",
    "to reduce sales and hold back inventory for those expensive last-minute expensive\n",
    "purchases)"
   ]
  },
  {
   "cell_type": "markdown",
   "id": "0f969870",
   "metadata": {},
   "source": [
    "For this purpose i web scrapped the data from website yatra.com, collected the details of different flight providers as shown below from various sources to one common destination place. \n",
    "Prices collected are for duration of one week inorder to estimate or find the role of week day in the ticket fare"
   ]
  },
  {
   "cell_type": "code",
   "execution_count": 1,
   "id": "066b1218",
   "metadata": {},
   "outputs": [],
   "source": [
    "#Importing the necessary modules\n",
    "import pandas as pd\n",
    "import numpy as np\n",
    "import matplotlib.pyplot as plt\n",
    "import seaborn as sns\n",
    "import warnings\n",
    "import re\n",
    "warnings.filterwarnings('ignore')"
   ]
  },
  {
   "cell_type": "code",
   "execution_count": 2,
   "id": "e8332145",
   "metadata": {},
   "outputs": [],
   "source": [
    "#reading the data\n",
    "data= pd.read_csv('airlines.csv')"
   ]
  },
  {
   "cell_type": "code",
   "execution_count": 3,
   "id": "57aaa849",
   "metadata": {
    "scrolled": true
   },
   "outputs": [
    {
     "data": {
      "text/html": [
       "<div>\n",
       "<style scoped>\n",
       "    .dataframe tbody tr th:only-of-type {\n",
       "        vertical-align: middle;\n",
       "    }\n",
       "\n",
       "    .dataframe tbody tr th {\n",
       "        vertical-align: top;\n",
       "    }\n",
       "\n",
       "    .dataframe thead th {\n",
       "        text-align: right;\n",
       "    }\n",
       "</style>\n",
       "<table border=\"1\" class=\"dataframe\">\n",
       "  <thead>\n",
       "    <tr style=\"text-align: right;\">\n",
       "      <th></th>\n",
       "      <th>Unnamed: 0</th>\n",
       "      <th>airline</th>\n",
       "      <th>date_of_journey</th>\n",
       "      <th>departure_city</th>\n",
       "      <th>departure_time</th>\n",
       "      <th>reaching_time</th>\n",
       "      <th>stops</th>\n",
       "      <th>destination_city</th>\n",
       "      <th>journey_time</th>\n",
       "      <th>others</th>\n",
       "      <th>ticket fare</th>\n",
       "    </tr>\n",
       "  </thead>\n",
       "  <tbody>\n",
       "    <tr>\n",
       "      <th>0</th>\n",
       "      <td>0</td>\n",
       "      <td>Go First</td>\n",
       "      <td>Sun, 30 Jan</td>\n",
       "      <td>Hyderabad</td>\n",
       "      <td>20:05</td>\n",
       "      <td>01:20\\n+ 1 day</td>\n",
       "      <td>1 Stop</td>\n",
       "      <td>Mumbai</td>\n",
       "      <td>5h 15m</td>\n",
       "      <td>Flight Details\\neCash 250</td>\n",
       "      <td>4,452</td>\n",
       "    </tr>\n",
       "    <tr>\n",
       "      <th>1</th>\n",
       "      <td>1</td>\n",
       "      <td>Go First</td>\n",
       "      <td>Sun, 30 Jan</td>\n",
       "      <td>Hyderabad</td>\n",
       "      <td>22:20</td>\n",
       "      <td>09:30\\n+ 1 day</td>\n",
       "      <td>1 Stop</td>\n",
       "      <td>Mumbai</td>\n",
       "      <td>11h 10m</td>\n",
       "      <td>Flight Details\\neCash 250</td>\n",
       "      <td>4,452</td>\n",
       "    </tr>\n",
       "    <tr>\n",
       "      <th>2</th>\n",
       "      <td>2</td>\n",
       "      <td>Go First</td>\n",
       "      <td>Sun, 30 Jan</td>\n",
       "      <td>Hyderabad</td>\n",
       "      <td>20:05</td>\n",
       "      <td>07:50\\n+ 1 day</td>\n",
       "      <td>1 Stop</td>\n",
       "      <td>Mumbai</td>\n",
       "      <td>11h 45m</td>\n",
       "      <td>Flight Details\\neCash 250</td>\n",
       "      <td>4,452</td>\n",
       "    </tr>\n",
       "    <tr>\n",
       "      <th>3</th>\n",
       "      <td>3</td>\n",
       "      <td>IndiGo</td>\n",
       "      <td>Sun, 30 Jan</td>\n",
       "      <td>Hyderabad</td>\n",
       "      <td>10:45</td>\n",
       "      <td>12:15</td>\n",
       "      <td>Non Stop</td>\n",
       "      <td>Mumbai</td>\n",
       "      <td>1h 30m</td>\n",
       "      <td>Flight Details\\neCash 250</td>\n",
       "      <td>4,453</td>\n",
       "    </tr>\n",
       "    <tr>\n",
       "      <th>4</th>\n",
       "      <td>4</td>\n",
       "      <td>IndiGo</td>\n",
       "      <td>Sun, 30 Jan</td>\n",
       "      <td>Hyderabad</td>\n",
       "      <td>08:30</td>\n",
       "      <td>10:05</td>\n",
       "      <td>Non Stop</td>\n",
       "      <td>Mumbai</td>\n",
       "      <td>1h 35m</td>\n",
       "      <td>Flight Details\\neCash 250</td>\n",
       "      <td>4,453</td>\n",
       "    </tr>\n",
       "    <tr>\n",
       "      <th>...</th>\n",
       "      <td>...</td>\n",
       "      <td>...</td>\n",
       "      <td>...</td>\n",
       "      <td>...</td>\n",
       "      <td>...</td>\n",
       "      <td>...</td>\n",
       "      <td>...</td>\n",
       "      <td>...</td>\n",
       "      <td>...</td>\n",
       "      <td>...</td>\n",
       "      <td>...</td>\n",
       "    </tr>\n",
       "    <tr>\n",
       "      <th>2908</th>\n",
       "      <td>2908</td>\n",
       "      <td>Go First</td>\n",
       "      <td>Sat, 5 Feb</td>\n",
       "      <td>New Delhi</td>\n",
       "      <td>09:15</td>\n",
       "      <td>18:10</td>\n",
       "      <td>1 Stop</td>\n",
       "      <td>Mumbai</td>\n",
       "      <td>8h 55m</td>\n",
       "      <td>Flight Details\\neCash 250</td>\n",
       "      <td>12,291</td>\n",
       "    </tr>\n",
       "    <tr>\n",
       "      <th>2909</th>\n",
       "      <td>2909</td>\n",
       "      <td>Air India</td>\n",
       "      <td>Sat, 5 Feb</td>\n",
       "      <td>New Delhi</td>\n",
       "      <td>10:55</td>\n",
       "      <td>08:20\\n+ 1 day</td>\n",
       "      <td>1 Stop</td>\n",
       "      <td>Mumbai</td>\n",
       "      <td>21h 25m</td>\n",
       "      <td>Flight Details\\nFree Meal\\nEmissions: 371 Kg C...</td>\n",
       "      <td>12,465</td>\n",
       "    </tr>\n",
       "    <tr>\n",
       "      <th>2910</th>\n",
       "      <td>2910</td>\n",
       "      <td>SpiceJet</td>\n",
       "      <td>Sat, 5 Feb</td>\n",
       "      <td>New Delhi</td>\n",
       "      <td>20:25</td>\n",
       "      <td>22:50</td>\n",
       "      <td>Non Stop</td>\n",
       "      <td>Mumbai</td>\n",
       "      <td>2h 25m</td>\n",
       "      <td>Flight Details\\neCash 250</td>\n",
       "      <td>13,200</td>\n",
       "    </tr>\n",
       "    <tr>\n",
       "      <th>2911</th>\n",
       "      <td>2911</td>\n",
       "      <td>Go First</td>\n",
       "      <td>Sat, 5 Feb</td>\n",
       "      <td>New Delhi</td>\n",
       "      <td>10:50</td>\n",
       "      <td>18:20</td>\n",
       "      <td>1 Stop</td>\n",
       "      <td>Mumbai</td>\n",
       "      <td>7h 30m</td>\n",
       "      <td>Flight Details\\neCash 250</td>\n",
       "      <td>16,245</td>\n",
       "    </tr>\n",
       "    <tr>\n",
       "      <th>2912</th>\n",
       "      <td>2912</td>\n",
       "      <td>Go First</td>\n",
       "      <td>Sat, 5 Feb</td>\n",
       "      <td>New Delhi</td>\n",
       "      <td>10:50</td>\n",
       "      <td>19:40</td>\n",
       "      <td>1 Stop</td>\n",
       "      <td>Mumbai</td>\n",
       "      <td>8h 50m</td>\n",
       "      <td>Flight Details\\neCash 250</td>\n",
       "      <td>16,245</td>\n",
       "    </tr>\n",
       "  </tbody>\n",
       "</table>\n",
       "<p>2913 rows × 11 columns</p>\n",
       "</div>"
      ],
      "text/plain": [
       "      Unnamed: 0    airline date_of_journey departure_city departure_time  \\\n",
       "0              0   Go First     Sun, 30 Jan      Hyderabad          20:05   \n",
       "1              1   Go First     Sun, 30 Jan      Hyderabad          22:20   \n",
       "2              2   Go First     Sun, 30 Jan      Hyderabad          20:05   \n",
       "3              3     IndiGo     Sun, 30 Jan      Hyderabad          10:45   \n",
       "4              4     IndiGo     Sun, 30 Jan      Hyderabad          08:30   \n",
       "...          ...        ...             ...            ...            ...   \n",
       "2908        2908   Go First      Sat, 5 Feb      New Delhi          09:15   \n",
       "2909        2909  Air India      Sat, 5 Feb      New Delhi          10:55   \n",
       "2910        2910   SpiceJet      Sat, 5 Feb      New Delhi          20:25   \n",
       "2911        2911   Go First      Sat, 5 Feb      New Delhi          10:50   \n",
       "2912        2912   Go First      Sat, 5 Feb      New Delhi          10:50   \n",
       "\n",
       "       reaching_time     stops destination_city journey_time  \\\n",
       "0     01:20\\n+ 1 day    1 Stop           Mumbai       5h 15m   \n",
       "1     09:30\\n+ 1 day    1 Stop           Mumbai      11h 10m   \n",
       "2     07:50\\n+ 1 day    1 Stop           Mumbai      11h 45m   \n",
       "3              12:15  Non Stop           Mumbai       1h 30m   \n",
       "4              10:05  Non Stop           Mumbai       1h 35m   \n",
       "...              ...       ...              ...          ...   \n",
       "2908           18:10    1 Stop           Mumbai       8h 55m   \n",
       "2909  08:20\\n+ 1 day    1 Stop           Mumbai      21h 25m   \n",
       "2910           22:50  Non Stop           Mumbai       2h 25m   \n",
       "2911           18:20    1 Stop           Mumbai       7h 30m   \n",
       "2912           19:40    1 Stop           Mumbai       8h 50m   \n",
       "\n",
       "                                                 others ticket fare  \n",
       "0                             Flight Details\\neCash 250       4,452  \n",
       "1                             Flight Details\\neCash 250       4,452  \n",
       "2                             Flight Details\\neCash 250       4,452  \n",
       "3                             Flight Details\\neCash 250       4,453  \n",
       "4                             Flight Details\\neCash 250       4,453  \n",
       "...                                                 ...         ...  \n",
       "2908                          Flight Details\\neCash 250      12,291  \n",
       "2909  Flight Details\\nFree Meal\\nEmissions: 371 Kg C...      12,465  \n",
       "2910                          Flight Details\\neCash 250      13,200  \n",
       "2911                          Flight Details\\neCash 250      16,245  \n",
       "2912                          Flight Details\\neCash 250      16,245  \n",
       "\n",
       "[2913 rows x 11 columns]"
      ]
     },
     "execution_count": 3,
     "metadata": {},
     "output_type": "execute_result"
    }
   ],
   "source": [
    "#viewing the data\n",
    "data"
   ]
  },
  {
   "cell_type": "markdown",
   "id": "373af6e9",
   "metadata": {},
   "source": [
    "There are 2913 rows with 11 columns"
   ]
  },
  {
   "cell_type": "code",
   "execution_count": 4,
   "id": "e49e2cbf",
   "metadata": {},
   "outputs": [
    {
     "name": "stdout",
     "output_type": "stream",
     "text": [
      "<class 'pandas.core.frame.DataFrame'>\n",
      "RangeIndex: 2913 entries, 0 to 2912\n",
      "Data columns (total 11 columns):\n",
      " #   Column            Non-Null Count  Dtype \n",
      "---  ------            --------------  ----- \n",
      " 0   Unnamed: 0        2913 non-null   int64 \n",
      " 1   airline           2913 non-null   object\n",
      " 2   date_of_journey   2913 non-null   object\n",
      " 3   departure_city    2913 non-null   object\n",
      " 4   departure_time    2913 non-null   object\n",
      " 5   reaching_time     2913 non-null   object\n",
      " 6   stops             2913 non-null   object\n",
      " 7   destination_city  2913 non-null   object\n",
      " 8   journey_time      2913 non-null   object\n",
      " 9   others            2913 non-null   object\n",
      " 10  ticket fare       2913 non-null   object\n",
      "dtypes: int64(1), object(10)\n",
      "memory usage: 250.5+ KB\n"
     ]
    }
   ],
   "source": [
    "#Viewing the basic info of data\n",
    "data.info()"
   ]
  },
  {
   "cell_type": "raw",
   "id": "10801746",
   "metadata": {},
   "source": [
    "From above we can see:\n",
    "    There are no null values in the data. \n",
    "    We can remove the column Unnamed: 0\n",
    "    All the columns are recogninsed as object data type, we need to fix them as required"
   ]
  },
  {
   "cell_type": "code",
   "execution_count": 5,
   "id": "38fcbc19",
   "metadata": {},
   "outputs": [],
   "source": [
    "#Making instance of data\n",
    "df=data.copy(deep=True)"
   ]
  },
  {
   "cell_type": "code",
   "execution_count": 6,
   "id": "e08ed0dc",
   "metadata": {},
   "outputs": [],
   "source": [
    "#Drop unnecessary columns\n",
    "df.drop('Unnamed: 0',axis=1,inplace=True)"
   ]
  },
  {
   "cell_type": "code",
   "execution_count": 7,
   "id": "8e341d96",
   "metadata": {},
   "outputs": [
    {
     "data": {
      "text/plain": [
       "Index(['airline', 'date_of_journey', 'departure_city', 'departure_time',\n",
       "       'reaching_time', 'stops', 'destination_city', 'journey_time', 'others',\n",
       "       'ticket fare'],\n",
       "      dtype='object')"
      ]
     },
     "execution_count": 7,
     "metadata": {},
     "output_type": "execute_result"
    }
   ],
   "source": [
    "df.columns"
   ]
  },
  {
   "cell_type": "code",
   "execution_count": 8,
   "id": "5534b8c1",
   "metadata": {},
   "outputs": [],
   "source": [
    "#changing data type of ticket fare\n",
    "price=[]\n",
    "for i in df['ticket fare']:\n",
    "    price.append(i.replace(',',''))\n",
    "df['price']=price"
   ]
  },
  {
   "cell_type": "code",
   "execution_count": 9,
   "id": "0281a606",
   "metadata": {},
   "outputs": [],
   "source": [
    "df['price']=df['price'].astype(int)"
   ]
  },
  {
   "cell_type": "code",
   "execution_count": 10,
   "id": "4bd70bd8",
   "metadata": {},
   "outputs": [],
   "source": [
    "#In column date of journey, we need only week day details, split the column \n",
    "df[['day','date']]=df['date_of_journey'].str.split(r',',expand=True)"
   ]
  },
  {
   "cell_type": "code",
   "execution_count": 11,
   "id": "736bef4d",
   "metadata": {},
   "outputs": [],
   "source": [
    "#Dropping the columns fare, date_of_journey\n",
    "df.drop(['ticket fare','date_of_journey'],axis=1,inplace=True)"
   ]
  },
  {
   "cell_type": "code",
   "execution_count": 12,
   "id": "827aa79c",
   "metadata": {},
   "outputs": [],
   "source": [
    "#splitting the journey time into hours & minutes columns\n",
    "df[['hours','minutes']]=df['journey_time'].str.split(' ',expand=True)"
   ]
  },
  {
   "cell_type": "code",
   "execution_count": 13,
   "id": "1dbf9d91",
   "metadata": {},
   "outputs": [],
   "source": [
    "#Replacing the h in hours column and converting into minutes\n",
    "df['hours']=df['hours'].str.replace('h','').astype(int)*60"
   ]
  },
  {
   "cell_type": "code",
   "execution_count": 14,
   "id": "be676c67",
   "metadata": {},
   "outputs": [],
   "source": [
    "#Replacing the m in minutes column\n",
    "df['minutes']=df['minutes'].str.replace('m','').astype(int)"
   ]
  },
  {
   "cell_type": "code",
   "execution_count": 15,
   "id": "972f4a47",
   "metadata": {},
   "outputs": [],
   "source": [
    "#Calculating the total time in minutes\n",
    "df['duration_in_min']=df['hours']+df['minutes']"
   ]
  },
  {
   "cell_type": "code",
   "execution_count": 16,
   "id": "be01fc15",
   "metadata": {},
   "outputs": [
    {
     "data": {
      "text/plain": [
       "Index(['airline', 'departure_city', 'departure_time', 'reaching_time', 'stops',\n",
       "       'destination_city', 'journey_time', 'others', 'price', 'day', 'date',\n",
       "       'hours', 'minutes', 'duration_in_min'],\n",
       "      dtype='object')"
      ]
     },
     "execution_count": 16,
     "metadata": {},
     "output_type": "execute_result"
    }
   ],
   "source": [
    "df.columns"
   ]
  },
  {
   "cell_type": "code",
   "execution_count": 17,
   "id": "18a72598",
   "metadata": {},
   "outputs": [],
   "source": [
    "#Dropping the columns journey_time, hours, minutes\n",
    "df.drop(['journey_time','hours','minutes'],axis=1,inplace=True)"
   ]
  },
  {
   "cell_type": "code",
   "execution_count": 18,
   "id": "e6924b1f",
   "metadata": {},
   "outputs": [],
   "source": [
    "#Splitting the departure time\n",
    "df[['departure_hour','departure_min']] = df['departure_time'].str.split(':',expand=True).astype(int)"
   ]
  },
  {
   "cell_type": "markdown",
   "id": "c9f5cc2c",
   "metadata": {},
   "source": [
    "we splitted the the departure times, inorder to find which part of day prices are high. "
   ]
  },
  {
   "cell_type": "code",
   "execution_count": 19,
   "id": "76fe2f48",
   "metadata": {},
   "outputs": [],
   "source": [
    "#Drop the column departure min, reaching time\n",
    "df.drop(['departure_min','departure_time','reaching_time'],axis=1,inplace=True)"
   ]
  },
  {
   "cell_type": "code",
   "execution_count": 20,
   "id": "11397291",
   "metadata": {},
   "outputs": [
    {
     "data": {
      "text/plain": [
       "['Evening',\n",
       " 'Evening',\n",
       " 'Evening',\n",
       " 'Morning',\n",
       " 'Morning',\n",
       " 'Morning',\n",
       " 'Evening',\n",
       " 'Evening',\n",
       " 'Afternoon',\n",
       " 'Afternoon',\n",
       " 'Afternoon',\n",
       " 'Afternoon',\n",
       " 'Evening',\n",
       " 'Early Hours',\n",
       " 'Early Hours',\n",
       " 'Early Hours',\n",
       " 'Early Hours',\n",
       " 'Afternoon',\n",
       " 'Evening',\n",
       " 'Evening',\n",
       " 'Evening',\n",
       " 'Evening',\n",
       " 'Morning',\n",
       " 'Afternoon',\n",
       " 'Morning',\n",
       " 'Evening',\n",
       " 'Afternoon',\n",
       " 'Morning',\n",
       " 'Evening',\n",
       " 'Afternoon',\n",
       " 'Afternoon',\n",
       " 'Evening',\n",
       " 'Evening',\n",
       " 'Afternoon',\n",
       " 'Evening',\n",
       " 'Afternoon',\n",
       " 'Morning',\n",
       " 'Afternoon',\n",
       " 'Morning',\n",
       " 'Morning',\n",
       " 'Afternoon',\n",
       " 'Afternoon',\n",
       " 'Afternoon',\n",
       " 'Afternoon',\n",
       " 'Afternoon',\n",
       " 'Evening',\n",
       " 'Afternoon',\n",
       " 'Afternoon',\n",
       " 'Afternoon',\n",
       " 'Afternoon',\n",
       " 'Afternoon',\n",
       " 'Afternoon',\n",
       " 'Afternoon',\n",
       " 'Early Hours',\n",
       " 'Evening',\n",
       " 'Afternoon',\n",
       " 'Evening',\n",
       " 'Afternoon',\n",
       " 'Early Hours',\n",
       " 'Evening',\n",
       " 'Afternoon',\n",
       " 'Morning',\n",
       " 'Afternoon',\n",
       " 'Afternoon',\n",
       " 'Morning',\n",
       " 'Early Hours',\n",
       " 'Early Hours',\n",
       " 'Early Hours',\n",
       " 'Morning',\n",
       " 'Morning',\n",
       " 'Morning',\n",
       " 'Early Hours',\n",
       " 'Morning',\n",
       " 'Afternoon',\n",
       " 'Morning',\n",
       " 'Morning',\n",
       " 'Afternoon',\n",
       " 'Evening',\n",
       " 'Evening',\n",
       " 'Afternoon',\n",
       " 'Afternoon',\n",
       " 'Morning',\n",
       " 'Early Hours',\n",
       " 'Afternoon',\n",
       " 'Afternoon',\n",
       " 'Afternoon',\n",
       " 'Morning',\n",
       " 'Afternoon',\n",
       " 'Morning',\n",
       " 'Morning',\n",
       " 'Early Hours',\n",
       " 'Evening',\n",
       " 'Evening',\n",
       " 'Early Hours',\n",
       " 'Evening',\n",
       " 'Early Hours',\n",
       " 'Morning',\n",
       " 'Morning',\n",
       " 'Morning',\n",
       " 'Evening',\n",
       " 'Morning',\n",
       " 'Morning',\n",
       " 'Evening',\n",
       " 'Early Hours',\n",
       " 'Morning',\n",
       " 'Morning',\n",
       " 'Morning',\n",
       " 'Evening',\n",
       " 'Evening',\n",
       " 'Evening',\n",
       " 'Evening',\n",
       " 'Afternoon',\n",
       " 'Afternoon',\n",
       " 'Morning',\n",
       " 'Early Hours',\n",
       " 'Early Hours',\n",
       " 'Early Hours',\n",
       " 'Afternoon',\n",
       " 'Afternoon',\n",
       " 'Afternoon',\n",
       " 'Afternoon',\n",
       " 'Afternoon',\n",
       " 'Afternoon',\n",
       " 'Afternoon',\n",
       " 'Evening',\n",
       " 'Evening',\n",
       " 'Afternoon',\n",
       " 'Afternoon',\n",
       " 'Afternoon',\n",
       " 'Afternoon',\n",
       " 'Afternoon',\n",
       " 'Early Hours',\n",
       " 'Evening',\n",
       " 'Morning',\n",
       " 'Evening',\n",
       " 'Afternoon',\n",
       " 'Early Hours',\n",
       " 'Morning',\n",
       " 'Morning',\n",
       " 'Morning',\n",
       " 'Early Hours',\n",
       " 'Morning',\n",
       " 'Evening',\n",
       " 'Early Hours',\n",
       " 'Afternoon',\n",
       " 'Morning',\n",
       " 'Morning',\n",
       " 'Morning',\n",
       " 'Evening',\n",
       " 'Evening',\n",
       " 'Morning',\n",
       " 'Evening',\n",
       " 'Morning',\n",
       " 'Morning',\n",
       " 'Morning',\n",
       " 'Evening',\n",
       " 'Evening',\n",
       " 'Morning',\n",
       " 'Afternoon',\n",
       " 'Morning',\n",
       " 'Morning',\n",
       " 'Afternoon',\n",
       " 'Evening',\n",
       " 'Evening',\n",
       " 'Morning',\n",
       " 'Morning',\n",
       " 'Early Hours',\n",
       " 'Afternoon',\n",
       " 'Morning',\n",
       " 'Morning',\n",
       " 'Morning',\n",
       " 'Morning',\n",
       " 'Early Hours',\n",
       " 'Evening',\n",
       " 'Evening',\n",
       " 'Early Hours',\n",
       " 'Evening',\n",
       " 'Early Hours',\n",
       " 'Early Hours',\n",
       " 'Early Hours',\n",
       " 'Afternoon',\n",
       " 'Afternoon',\n",
       " 'Morning',\n",
       " 'Afternoon',\n",
       " 'Afternoon',\n",
       " 'Morning',\n",
       " 'Early Hours',\n",
       " 'Early Hours',\n",
       " 'Afternoon',\n",
       " 'Morning',\n",
       " 'Afternoon',\n",
       " 'Morning',\n",
       " 'Afternoon',\n",
       " 'Afternoon',\n",
       " 'Afternoon',\n",
       " 'Morning',\n",
       " 'Morning',\n",
       " 'Morning',\n",
       " 'Morning',\n",
       " 'Early Hours',\n",
       " 'Early Hours',\n",
       " 'Early Hours',\n",
       " 'Early Hours',\n",
       " 'Afternoon',\n",
       " 'Evening',\n",
       " 'Afternoon',\n",
       " 'Morning',\n",
       " 'Early Hours',\n",
       " 'Early Hours',\n",
       " 'Early Hours',\n",
       " 'Early Hours',\n",
       " 'Early Hours',\n",
       " 'Early Hours',\n",
       " 'Early Hours',\n",
       " 'Early Hours',\n",
       " 'Early Hours',\n",
       " 'Early Hours',\n",
       " 'Early Hours',\n",
       " 'Early Hours',\n",
       " 'Early Hours',\n",
       " 'Early Hours',\n",
       " 'Morning',\n",
       " 'Early Hours',\n",
       " 'Evening',\n",
       " 'Evening',\n",
       " 'Afternoon',\n",
       " 'Afternoon',\n",
       " 'Evening',\n",
       " 'Early Hours',\n",
       " 'Afternoon',\n",
       " 'Morning',\n",
       " 'Morning',\n",
       " 'Morning',\n",
       " 'Morning',\n",
       " 'Evening',\n",
       " 'Evening',\n",
       " 'Morning',\n",
       " 'Evening',\n",
       " 'Morning',\n",
       " 'Morning',\n",
       " 'Evening',\n",
       " 'Evening',\n",
       " 'Morning',\n",
       " 'Afternoon',\n",
       " 'Morning',\n",
       " 'Morning',\n",
       " 'Afternoon',\n",
       " 'Evening',\n",
       " 'Evening',\n",
       " 'Afternoon',\n",
       " 'Afternoon',\n",
       " 'Afternoon',\n",
       " 'Morning',\n",
       " 'Morning',\n",
       " 'Early Hours',\n",
       " 'Afternoon',\n",
       " 'Morning',\n",
       " 'Morning',\n",
       " 'Morning',\n",
       " 'Morning',\n",
       " 'Early Hours',\n",
       " 'Evening',\n",
       " 'Evening',\n",
       " 'Early Hours',\n",
       " 'Evening',\n",
       " 'Early Hours',\n",
       " 'Early Hours',\n",
       " 'Afternoon',\n",
       " 'Afternoon',\n",
       " 'Morning',\n",
       " 'Morning',\n",
       " 'Morning',\n",
       " 'Evening',\n",
       " 'Morning',\n",
       " 'Morning',\n",
       " 'Afternoon',\n",
       " 'Early Hours',\n",
       " 'Afternoon',\n",
       " 'Early Hours',\n",
       " 'Afternoon',\n",
       " 'Afternoon',\n",
       " 'Afternoon',\n",
       " 'Early Hours',\n",
       " 'Early Hours',\n",
       " 'Morning',\n",
       " 'Morning',\n",
       " 'Morning',\n",
       " 'Morning',\n",
       " 'Morning',\n",
       " 'Afternoon',\n",
       " 'Afternoon',\n",
       " 'Afternoon',\n",
       " 'Afternoon',\n",
       " 'Afternoon',\n",
       " 'Afternoon',\n",
       " 'Afternoon',\n",
       " 'Evening',\n",
       " 'Evening',\n",
       " 'Afternoon',\n",
       " 'Afternoon',\n",
       " 'Afternoon',\n",
       " 'Afternoon',\n",
       " 'Afternoon',\n",
       " 'Evening',\n",
       " 'Early Hours',\n",
       " 'Early Hours',\n",
       " 'Early Hours',\n",
       " 'Early Hours',\n",
       " 'Early Hours',\n",
       " 'Evening',\n",
       " 'Early Hours',\n",
       " 'Morning',\n",
       " 'Afternoon',\n",
       " 'Early Hours',\n",
       " 'Morning',\n",
       " 'Evening',\n",
       " 'Early Hours',\n",
       " 'Afternoon',\n",
       " 'Morning',\n",
       " 'Morning',\n",
       " 'Evening',\n",
       " 'Morning',\n",
       " 'Morning',\n",
       " 'Morning',\n",
       " 'Evening',\n",
       " 'Evening',\n",
       " 'Morning',\n",
       " 'Evening',\n",
       " 'Morning',\n",
       " 'Morning',\n",
       " 'Evening',\n",
       " 'Morning',\n",
       " 'Afternoon',\n",
       " 'Morning',\n",
       " 'Morning',\n",
       " 'Afternoon',\n",
       " 'Evening',\n",
       " 'Evening',\n",
       " 'Morning',\n",
       " 'Morning',\n",
       " 'Early Hours',\n",
       " 'Afternoon',\n",
       " 'Morning',\n",
       " 'Morning',\n",
       " 'Morning',\n",
       " 'Morning',\n",
       " 'Early Hours',\n",
       " 'Evening',\n",
       " 'Evening',\n",
       " 'Early Hours',\n",
       " 'Evening',\n",
       " 'Early Hours',\n",
       " 'Early Hours',\n",
       " 'Afternoon',\n",
       " 'Afternoon',\n",
       " 'Morning',\n",
       " 'Morning',\n",
       " 'Early Hours',\n",
       " 'Afternoon',\n",
       " 'Early Hours',\n",
       " 'Afternoon',\n",
       " 'Early Hours',\n",
       " 'Afternoon',\n",
       " 'Afternoon',\n",
       " 'Afternoon',\n",
       " 'Early Hours',\n",
       " 'Early Hours',\n",
       " 'Early Hours',\n",
       " 'Early Hours',\n",
       " 'Evening',\n",
       " 'Evening',\n",
       " 'Afternoon',\n",
       " 'Morning',\n",
       " 'Early Hours',\n",
       " 'Morning',\n",
       " 'Morning',\n",
       " 'Morning',\n",
       " 'Morning',\n",
       " 'Morning',\n",
       " 'Early Hours',\n",
       " 'Evening',\n",
       " 'Afternoon',\n",
       " 'Morning',\n",
       " 'Early Hours',\n",
       " 'Early Hours',\n",
       " 'Early Hours',\n",
       " 'Early Hours',\n",
       " 'Early Hours',\n",
       " 'Early Hours',\n",
       " 'Evening',\n",
       " 'Early Hours',\n",
       " 'Evening',\n",
       " 'Afternoon',\n",
       " 'Early Hours',\n",
       " 'Evening',\n",
       " 'Afternoon',\n",
       " 'Morning',\n",
       " 'Evening',\n",
       " 'Afternoon',\n",
       " 'Evening',\n",
       " 'Early Hours',\n",
       " 'Afternoon',\n",
       " 'Morning',\n",
       " 'Morning',\n",
       " 'Morning',\n",
       " 'Morning',\n",
       " 'Morning',\n",
       " 'Evening',\n",
       " 'Evening',\n",
       " 'Morning',\n",
       " 'Evening',\n",
       " 'Morning',\n",
       " 'Morning',\n",
       " 'Early Hours',\n",
       " 'Early Hours',\n",
       " 'Evening',\n",
       " 'Morning',\n",
       " 'Afternoon',\n",
       " 'Morning',\n",
       " 'Morning',\n",
       " 'Afternoon',\n",
       " 'Evening',\n",
       " 'Evening',\n",
       " 'Afternoon',\n",
       " 'Afternoon',\n",
       " 'Afternoon',\n",
       " 'Afternoon',\n",
       " 'Afternoon',\n",
       " 'Morning',\n",
       " 'Morning',\n",
       " 'Early Hours',\n",
       " 'Afternoon',\n",
       " 'Morning',\n",
       " 'Morning',\n",
       " 'Morning',\n",
       " 'Early Hours',\n",
       " 'Evening',\n",
       " 'Evening',\n",
       " 'Early Hours',\n",
       " 'Evening',\n",
       " 'Early Hours',\n",
       " 'Early Hours',\n",
       " 'Afternoon',\n",
       " 'Afternoon',\n",
       " 'Morning',\n",
       " 'Evening',\n",
       " 'Afternoon',\n",
       " 'Early Hours',\n",
       " 'Morning',\n",
       " 'Afternoon',\n",
       " 'Early Hours',\n",
       " 'Morning',\n",
       " 'Afternoon',\n",
       " 'Afternoon',\n",
       " 'Afternoon',\n",
       " 'Early Hours',\n",
       " 'Morning',\n",
       " 'Early Hours',\n",
       " 'Morning',\n",
       " 'Afternoon',\n",
       " 'Afternoon',\n",
       " 'Afternoon',\n",
       " 'Afternoon',\n",
       " 'Afternoon',\n",
       " 'Afternoon',\n",
       " 'Afternoon',\n",
       " 'Evening',\n",
       " 'Afternoon',\n",
       " 'Afternoon',\n",
       " 'Afternoon',\n",
       " 'Afternoon',\n",
       " 'Afternoon',\n",
       " 'Morning',\n",
       " 'Early Hours',\n",
       " 'Morning',\n",
       " 'Early Hours',\n",
       " 'Morning',\n",
       " 'Evening',\n",
       " 'Evening',\n",
       " 'Afternoon',\n",
       " 'Early Hours',\n",
       " 'Morning',\n",
       " 'Early Hours',\n",
       " 'Afternoon',\n",
       " 'Afternoon',\n",
       " 'Evening',\n",
       " 'Afternoon',\n",
       " 'Morning',\n",
       " 'Morning',\n",
       " 'Evening',\n",
       " 'Morning',\n",
       " 'Morning',\n",
       " 'Morning',\n",
       " 'Evening',\n",
       " 'Evening',\n",
       " 'Morning',\n",
       " 'Evening',\n",
       " 'Morning',\n",
       " 'Morning',\n",
       " 'Morning',\n",
       " 'Evening',\n",
       " 'Morning',\n",
       " 'Afternoon',\n",
       " 'Morning',\n",
       " 'Morning',\n",
       " 'Afternoon',\n",
       " 'Evening',\n",
       " 'Evening',\n",
       " 'Morning',\n",
       " 'Morning',\n",
       " 'Early Hours',\n",
       " 'Morning',\n",
       " 'Morning',\n",
       " 'Morning',\n",
       " 'Morning',\n",
       " 'Morning',\n",
       " 'Morning',\n",
       " 'Morning',\n",
       " 'Morning',\n",
       " 'Evening',\n",
       " 'Evening',\n",
       " 'Evening',\n",
       " 'Evening',\n",
       " 'Evening',\n",
       " 'Early Hours',\n",
       " 'Early Hours',\n",
       " 'Afternoon',\n",
       " 'Afternoon',\n",
       " 'Afternoon',\n",
       " 'Afternoon',\n",
       " 'Evening',\n",
       " 'Evening',\n",
       " 'Evening',\n",
       " 'Evening',\n",
       " 'Early Hours',\n",
       " 'Early Hours',\n",
       " 'Early Hours',\n",
       " 'Early Hours',\n",
       " 'Early Hours',\n",
       " 'Afternoon',\n",
       " 'Morning',\n",
       " 'Afternoon',\n",
       " 'Early Hours',\n",
       " 'Early Hours',\n",
       " 'Early Hours',\n",
       " 'Early Hours',\n",
       " 'Early Hours',\n",
       " 'Early Hours',\n",
       " 'Early Hours',\n",
       " 'Early Hours',\n",
       " 'Evening',\n",
       " 'Early Hours',\n",
       " 'Afternoon',\n",
       " 'Early Hours',\n",
       " 'Early Hours',\n",
       " 'Early Hours',\n",
       " 'Early Hours',\n",
       " 'Early Hours',\n",
       " 'Early Hours',\n",
       " 'Evening',\n",
       " 'Afternoon',\n",
       " 'Early Hours',\n",
       " 'Afternoon',\n",
       " 'Afternoon',\n",
       " 'Morning',\n",
       " 'Afternoon',\n",
       " 'Morning',\n",
       " 'Early Hours',\n",
       " 'Afternoon',\n",
       " 'Afternoon',\n",
       " 'Afternoon',\n",
       " 'Afternoon',\n",
       " 'Early Hours',\n",
       " 'Evening',\n",
       " 'Afternoon',\n",
       " 'Morning',\n",
       " 'Morning',\n",
       " 'Morning',\n",
       " 'Afternoon',\n",
       " 'Afternoon',\n",
       " 'Afternoon',\n",
       " 'Afternoon',\n",
       " 'Afternoon',\n",
       " 'Morning',\n",
       " 'Morning',\n",
       " 'Morning',\n",
       " 'Afternoon',\n",
       " 'Morning',\n",
       " 'Morning',\n",
       " 'Morning',\n",
       " 'Morning',\n",
       " 'Morning',\n",
       " 'Early Hours',\n",
       " 'Afternoon',\n",
       " 'Afternoon',\n",
       " 'Afternoon',\n",
       " 'Afternoon',\n",
       " 'Early Hours',\n",
       " 'Evening',\n",
       " 'Afternoon',\n",
       " 'Morning',\n",
       " 'Morning',\n",
       " 'Morning',\n",
       " 'Afternoon',\n",
       " 'Afternoon',\n",
       " 'Afternoon',\n",
       " 'Afternoon',\n",
       " 'Afternoon',\n",
       " 'Morning',\n",
       " 'Morning',\n",
       " 'Morning',\n",
       " 'Afternoon',\n",
       " 'Morning',\n",
       " 'Morning',\n",
       " 'Morning',\n",
       " 'Morning',\n",
       " 'Morning',\n",
       " 'Morning',\n",
       " 'Early Hours',\n",
       " 'Early Hours',\n",
       " 'Early Hours',\n",
       " 'Early Hours',\n",
       " 'Early Hours',\n",
       " 'Early Hours',\n",
       " 'Early Hours',\n",
       " 'Early Hours',\n",
       " 'Early Hours',\n",
       " 'Morning',\n",
       " 'Evening',\n",
       " 'Evening',\n",
       " 'Evening',\n",
       " 'Evening',\n",
       " 'Morning',\n",
       " 'Afternoon',\n",
       " 'Early Hours',\n",
       " 'Early Hours',\n",
       " 'Early Hours',\n",
       " 'Early Hours',\n",
       " 'Evening',\n",
       " 'Early Hours',\n",
       " 'Evening',\n",
       " 'Early Hours',\n",
       " 'Evening',\n",
       " 'Morning',\n",
       " 'Morning',\n",
       " 'Morning',\n",
       " 'Morning',\n",
       " 'Morning',\n",
       " 'Morning',\n",
       " 'Afternoon',\n",
       " 'Morning',\n",
       " 'Early Hours',\n",
       " 'Morning',\n",
       " 'Morning',\n",
       " 'Morning',\n",
       " 'Morning',\n",
       " 'Early Hours',\n",
       " 'Morning',\n",
       " 'Early Hours',\n",
       " 'Early Hours',\n",
       " 'Early Hours',\n",
       " 'Evening',\n",
       " 'Evening',\n",
       " 'Afternoon',\n",
       " 'Afternoon',\n",
       " 'Early Hours',\n",
       " 'Evening',\n",
       " 'Morning',\n",
       " 'Morning',\n",
       " 'Early Hours',\n",
       " 'Early Hours',\n",
       " 'Early Hours',\n",
       " 'Early Hours',\n",
       " 'Early Hours',\n",
       " 'Morning',\n",
       " 'Morning',\n",
       " 'Early Hours',\n",
       " 'Afternoon',\n",
       " 'Afternoon',\n",
       " 'Afternoon',\n",
       " 'Afternoon',\n",
       " 'Early Hours',\n",
       " 'Evening',\n",
       " 'Afternoon',\n",
       " 'Morning',\n",
       " 'Morning',\n",
       " 'Morning',\n",
       " 'Afternoon',\n",
       " 'Afternoon',\n",
       " 'Afternoon',\n",
       " 'Afternoon',\n",
       " 'Afternoon',\n",
       " 'Morning',\n",
       " 'Morning',\n",
       " 'Morning',\n",
       " 'Afternoon',\n",
       " 'Morning',\n",
       " 'Morning',\n",
       " 'Morning',\n",
       " 'Morning',\n",
       " 'Morning',\n",
       " 'Morning',\n",
       " 'Early Hours',\n",
       " 'Early Hours',\n",
       " 'Early Hours',\n",
       " 'Early Hours',\n",
       " 'Early Hours',\n",
       " 'Early Hours',\n",
       " 'Early Hours',\n",
       " 'Early Hours',\n",
       " 'Early Hours',\n",
       " 'Morning',\n",
       " 'Evening',\n",
       " 'Evening',\n",
       " 'Evening',\n",
       " 'Evening',\n",
       " 'Morning',\n",
       " 'Afternoon',\n",
       " 'Early Hours',\n",
       " 'Early Hours',\n",
       " 'Early Hours',\n",
       " 'Early Hours',\n",
       " 'Evening',\n",
       " 'Early Hours',\n",
       " 'Evening',\n",
       " 'Early Hours',\n",
       " 'Evening',\n",
       " 'Morning',\n",
       " 'Morning',\n",
       " 'Morning',\n",
       " 'Morning',\n",
       " 'Morning',\n",
       " 'Morning',\n",
       " 'Afternoon',\n",
       " 'Morning',\n",
       " 'Early Hours',\n",
       " 'Morning',\n",
       " 'Morning',\n",
       " 'Morning',\n",
       " 'Morning',\n",
       " 'Early Hours',\n",
       " 'Morning',\n",
       " 'Early Hours',\n",
       " 'Early Hours',\n",
       " 'Early Hours',\n",
       " 'Evening',\n",
       " 'Evening',\n",
       " 'Afternoon',\n",
       " 'Afternoon',\n",
       " 'Early Hours',\n",
       " 'Evening',\n",
       " 'Morning',\n",
       " 'Morning',\n",
       " 'Early Hours',\n",
       " 'Early Hours',\n",
       " 'Early Hours',\n",
       " 'Early Hours',\n",
       " 'Early Hours',\n",
       " 'Morning',\n",
       " 'Morning',\n",
       " 'Morning',\n",
       " 'Afternoon',\n",
       " 'Afternoon',\n",
       " 'Morning',\n",
       " 'Afternoon',\n",
       " 'Early Hours',\n",
       " 'Evening',\n",
       " 'Afternoon',\n",
       " 'Morning',\n",
       " 'Morning',\n",
       " 'Morning',\n",
       " 'Afternoon',\n",
       " 'Early Hours',\n",
       " 'Morning',\n",
       " 'Afternoon',\n",
       " 'Morning',\n",
       " 'Afternoon',\n",
       " 'Afternoon',\n",
       " 'Morning',\n",
       " 'Early Hours',\n",
       " 'Morning',\n",
       " 'Afternoon',\n",
       " 'Afternoon',\n",
       " 'Morning',\n",
       " 'Morning',\n",
       " 'Morning',\n",
       " 'Morning',\n",
       " 'Morning',\n",
       " 'Early Hours',\n",
       " 'Morning',\n",
       " 'Evening',\n",
       " 'Evening',\n",
       " 'Early Hours',\n",
       " 'Evening',\n",
       " 'Early Hours',\n",
       " 'Early Hours',\n",
       " 'Early Hours',\n",
       " 'Afternoon',\n",
       " 'Afternoon',\n",
       " 'Afternoon',\n",
       " 'Evening',\n",
       " 'Morning',\n",
       " 'Afternoon',\n",
       " 'Morning',\n",
       " 'Morning',\n",
       " 'Early Hours',\n",
       " 'Morning',\n",
       " 'Early Hours',\n",
       " 'Morning',\n",
       " 'Early Hours',\n",
       " 'Morning',\n",
       " 'Morning',\n",
       " 'Early Hours',\n",
       " 'Evening',\n",
       " 'Early Hours',\n",
       " 'Evening',\n",
       " 'Early Hours',\n",
       " 'Evening',\n",
       " 'Early Hours',\n",
       " 'Morning',\n",
       " 'Morning',\n",
       " 'Morning',\n",
       " 'Morning',\n",
       " 'Early Hours',\n",
       " 'Early Hours',\n",
       " 'Morning',\n",
       " 'Early Hours',\n",
       " 'Morning',\n",
       " 'Morning',\n",
       " 'Early Hours',\n",
       " 'Evening',\n",
       " 'Afternoon',\n",
       " 'Morning',\n",
       " 'Early Hours',\n",
       " 'Morning',\n",
       " 'Early Hours',\n",
       " 'Early Hours',\n",
       " 'Evening',\n",
       " 'Afternoon',\n",
       " 'Morning',\n",
       " 'Morning',\n",
       " 'Morning',\n",
       " 'Evening',\n",
       " 'Morning',\n",
       " 'Afternoon',\n",
       " 'Afternoon',\n",
       " 'Morning',\n",
       " 'Afternoon',\n",
       " 'Early Hours',\n",
       " 'Evening',\n",
       " 'Afternoon',\n",
       " 'Morning',\n",
       " 'Morning',\n",
       " 'Morning',\n",
       " 'Morning',\n",
       " 'Afternoon',\n",
       " 'Afternoon',\n",
       " 'Early Hours',\n",
       " 'Afternoon',\n",
       " 'Morning',\n",
       " 'Afternoon',\n",
       " 'Afternoon',\n",
       " 'Morning',\n",
       " 'Early Hours',\n",
       " 'Evening',\n",
       " 'Morning',\n",
       " 'Morning',\n",
       " 'Afternoon',\n",
       " 'Morning',\n",
       " 'Morning',\n",
       " 'Morning',\n",
       " 'Morning',\n",
       " 'Evening',\n",
       " 'Evening',\n",
       " 'Early Hours',\n",
       " 'Evening',\n",
       " 'Early Hours',\n",
       " 'Early Hours',\n",
       " 'Morning',\n",
       " 'Morning',\n",
       " 'Morning',\n",
       " 'Afternoon',\n",
       " 'Morning',\n",
       " 'Morning',\n",
       " 'Early Hours',\n",
       " 'Morning',\n",
       " 'Early Hours',\n",
       " 'Morning',\n",
       " 'Early Hours',\n",
       " 'Evening',\n",
       " 'Morning',\n",
       " 'Morning',\n",
       " 'Morning',\n",
       " 'Morning',\n",
       " 'Morning',\n",
       " 'Morning',\n",
       " 'Morning',\n",
       " 'Morning',\n",
       " 'Morning',\n",
       " 'Morning',\n",
       " 'Morning',\n",
       " 'Morning',\n",
       " 'Early Hours',\n",
       " 'Morning',\n",
       " 'Evening',\n",
       " 'Evening',\n",
       " 'Afternoon',\n",
       " 'Afternoon',\n",
       " 'Morning',\n",
       " 'Early Hours',\n",
       " 'Morning',\n",
       " 'Morning',\n",
       " 'Morning',\n",
       " 'Early Hours',\n",
       " 'Evening',\n",
       " 'Afternoon',\n",
       " 'Morning',\n",
       " 'Early Hours',\n",
       " 'Morning',\n",
       " 'Early Hours',\n",
       " 'Morning',\n",
       " 'Morning',\n",
       " 'Morning',\n",
       " 'Early Hours',\n",
       " 'Early Hours',\n",
       " 'Early Hours',\n",
       " 'Afternoon',\n",
       " 'Afternoon',\n",
       " 'Afternoon',\n",
       " 'Evening',\n",
       " 'Evening',\n",
       " 'Afternoon',\n",
       " 'Morning',\n",
       " 'Morning',\n",
       " 'Morning',\n",
       " 'Morning',\n",
       " 'Morning',\n",
       " 'Afternoon',\n",
       " 'Early Hours',\n",
       " 'Morning',\n",
       " 'Morning',\n",
       " 'Morning',\n",
       " 'Early Hours',\n",
       " 'Afternoon',\n",
       " 'Afternoon',\n",
       " 'Afternoon',\n",
       " 'Afternoon',\n",
       " 'Afternoon',\n",
       " 'Morning',\n",
       " 'Morning',\n",
       " 'Morning',\n",
       " 'Early Hours',\n",
       " 'Evening',\n",
       " 'Evening',\n",
       " 'Early Hours',\n",
       " 'Evening',\n",
       " 'Early Hours',\n",
       " 'Early Hours',\n",
       " 'Early Hours',\n",
       " 'Afternoon',\n",
       " 'Afternoon',\n",
       " 'Afternoon',\n",
       " 'Evening',\n",
       " 'Evening',\n",
       " 'Evening',\n",
       " 'Afternoon',\n",
       " 'Evening',\n",
       " 'Afternoon',\n",
       " 'Morning',\n",
       " 'Afternoon',\n",
       " 'Early Hours',\n",
       " 'Early Hours',\n",
       " 'Early Hours',\n",
       " 'Early Hours',\n",
       " 'Evening',\n",
       " 'Early Hours',\n",
       " 'Evening',\n",
       " 'Early Hours',\n",
       " 'Evening',\n",
       " 'Early Hours',\n",
       " 'Morning',\n",
       " 'Morning',\n",
       " 'Morning',\n",
       " 'Morning',\n",
       " 'Morning',\n",
       " 'Morning',\n",
       " 'Morning',\n",
       " 'Morning',\n",
       " 'Early Hours',\n",
       " 'Morning',\n",
       " 'Early Hours',\n",
       " 'Early Hours',\n",
       " 'Morning',\n",
       " 'Morning',\n",
       " 'Morning',\n",
       " 'Morning',\n",
       " 'Early Hours',\n",
       " 'Early Hours',\n",
       " 'Evening',\n",
       " 'Afternoon',\n",
       " ...]"
      ]
     },
     "execution_count": 20,
     "metadata": {},
     "output_type": "execute_result"
    }
   ],
   "source": [
    "#categorising the day based on the hour of departure\n",
    "day_category = []\n",
    "for i in df['departure_hour']:\n",
    "    if i in range(0,7):\n",
    "        category='Early Hours'\n",
    "        day_category.append(category)\n",
    "    elif i in range(7,13):\n",
    "        category='Morning'\n",
    "        day_category.append(category)\n",
    "    elif i in range(13,19):\n",
    "        category='Afternoon'\n",
    "        day_category.append(category)\n",
    "    else:\n",
    "        category='Evening'\n",
    "        day_category.append(category)\n",
    "day_category\n",
    "        "
   ]
  },
  {
   "cell_type": "code",
   "execution_count": 21,
   "id": "b038a1e3",
   "metadata": {},
   "outputs": [],
   "source": [
    "#New column in data frame having the category of day\n",
    "df['day slot']=day_category"
   ]
  },
  {
   "cell_type": "code",
   "execution_count": 22,
   "id": "4901a2f6",
   "metadata": {},
   "outputs": [],
   "source": [
    "#Drop the column departure hour\n",
    "df.drop('departure_hour',axis=1,inplace=True)"
   ]
  },
  {
   "cell_type": "markdown",
   "id": "f98a26d5",
   "metadata": {},
   "source": [
    "we made all the required main modifications, let us see the info now and change remaining while exploring deep"
   ]
  },
  {
   "cell_type": "code",
   "execution_count": 23,
   "id": "85aad702",
   "metadata": {
    "scrolled": true
   },
   "outputs": [
    {
     "name": "stdout",
     "output_type": "stream",
     "text": [
      "<class 'pandas.core.frame.DataFrame'>\n",
      "RangeIndex: 2913 entries, 0 to 2912\n",
      "Data columns (total 10 columns):\n",
      " #   Column            Non-Null Count  Dtype \n",
      "---  ------            --------------  ----- \n",
      " 0   airline           2913 non-null   object\n",
      " 1   departure_city    2913 non-null   object\n",
      " 2   stops             2913 non-null   object\n",
      " 3   destination_city  2913 non-null   object\n",
      " 4   others            2913 non-null   object\n",
      " 5   price             2913 non-null   int32 \n",
      " 6   day               2913 non-null   object\n",
      " 7   date              2913 non-null   object\n",
      " 8   duration_in_min   2913 non-null   int32 \n",
      " 9   day slot          2913 non-null   object\n",
      "dtypes: int32(2), object(8)\n",
      "memory usage: 204.9+ KB\n"
     ]
    }
   ],
   "source": [
    "df.info()"
   ]
  },
  {
   "cell_type": "code",
   "execution_count": 24,
   "id": "49efb7be",
   "metadata": {},
   "outputs": [
    {
     "name": "stdout",
     "output_type": "stream",
     "text": [
      "Air India    1100\n",
      "Vistara       709\n",
      "IndiGo        575\n",
      "Go First      464\n",
      "SpiceJet       65\n",
      "Name: airline, dtype: int64\n"
     ]
    },
    {
     "data": {
      "image/png": "[encoded data removed]",
      "text/plain": [
       "<Figure size 432x288 with 1 Axes>"
      ]
     },
     "metadata": {
      "needs_background": "light"
     },
     "output_type": "display_data"
    }
   ],
   "source": [
    "#Details of airlines\n",
    "sns.countplot(df['airline'])\n",
    "print(df['airline'].value_counts())"
   ]
  },
  {
   "cell_type": "markdown",
   "id": "164c670c",
   "metadata": {},
   "source": [
    "We have data of 5 different service providers as shown above. Air india having the major flights and spice jet least"
   ]
  },
  {
   "cell_type": "code",
   "execution_count": 25,
   "id": "4e044137",
   "metadata": {},
   "outputs": [
    {
     "data": {
      "text/plain": [
       "Bangalore    774\n",
       "New Delhi    663\n",
       "Hyderabad    567\n",
       "Chennai      527\n",
       "Goa          382\n",
       "Name: departure_city, dtype: int64"
      ]
     },
     "execution_count": 25,
     "metadata": {},
     "output_type": "execute_result"
    },
    {
     "data": {
      "image/png": "[encoded data removed]",
      "text/plain": [
       "<Figure size 432x288 with 1 Axes>"
      ]
     },
     "metadata": {
      "needs_background": "light"
     },
     "output_type": "display_data"
    }
   ],
   "source": [
    "#Exploring departure city column\n",
    "sns.countplot(df['departure_city'])\n",
    "df['departure_city'].value_counts()"
   ]
  },
  {
   "cell_type": "markdown",
   "id": "fd0a0cca",
   "metadata": {},
   "source": [
    "our data has more filghts from banglore & least flights from goa"
   ]
  },
  {
   "cell_type": "code",
   "execution_count": 26,
   "id": "0a976f59",
   "metadata": {},
   "outputs": [
    {
     "data": {
      "text/plain": [
       "1 Stop       1573\n",
       "2 Stop(s)     635\n",
       "Non Stop      557\n",
       "3 Stop(s)     144\n",
       "4 Stop(s)       4\n",
       "Name: stops, dtype: int64"
      ]
     },
     "execution_count": 26,
     "metadata": {},
     "output_type": "execute_result"
    }
   ],
   "source": [
    "#viewing stops column\n",
    "df['stops'].value_counts()"
   ]
  },
  {
   "cell_type": "markdown",
   "id": "6a4e0b03",
   "metadata": {},
   "source": [
    "majority of flights have 1 stop and only 4 flights have 4 stops in between the source and destination"
   ]
  },
  {
   "cell_type": "code",
   "execution_count": 27,
   "id": "8a6bc6c3",
   "metadata": {},
   "outputs": [
    {
     "data": {
      "text/plain": [
       "1    1573\n",
       "2     635\n",
       "0     557\n",
       "3     144\n",
       "4       4\n",
       "Name: stops, dtype: int64"
      ]
     },
     "execution_count": 27,
     "metadata": {},
     "output_type": "execute_result"
    }
   ],
   "source": [
    "stops = []\n",
    "for i in df['stops']:\n",
    "    if i == '1 Stop':\n",
    "        j=1\n",
    "    elif i == '2 Stop(s)':\n",
    "        j=2\n",
    "    elif i == 'Non Stop':\n",
    "        j=0\n",
    "    elif i == '3 Stop(s)':\n",
    "        j=3\n",
    "    elif i == '4 Stop(s)':\n",
    "        j=4\n",
    "    \n",
    "    stops.append(j)\n",
    "    \n",
    "df['stops']=stops\n",
    "df['stops'].value_counts()"
   ]
  },
  {
   "cell_type": "markdown",
   "id": "f1501d2d",
   "metadata": {},
   "source": [
    "now we changed the column into int format as required by assigning numerical values"
   ]
  },
  {
   "cell_type": "code",
   "execution_count": 28,
   "id": "794abb27",
   "metadata": {},
   "outputs": [
    {
     "data": {
      "text/plain": [
       "Mumbai    2913\n",
       "Name: destination_city, dtype: int64"
      ]
     },
     "execution_count": 28,
     "metadata": {},
     "output_type": "execute_result"
    }
   ],
   "source": [
    "#Destination city\n",
    "df['destination_city'].value_counts()"
   ]
  },
  {
   "cell_type": "code",
   "execution_count": 29,
   "id": "4f6af428",
   "metadata": {},
   "outputs": [
    {
     "data": {
      "text/plain": [
       "0                               Flight Details\\neCash 250\n",
       "1                               Flight Details\\neCash 250\n",
       "2                               Flight Details\\neCash 250\n",
       "3                               Flight Details\\neCash 250\n",
       "4                               Flight Details\\neCash 250\n",
       "                              ...                        \n",
       "2908                            Flight Details\\neCash 250\n",
       "2909    Flight Details\\nFree Meal\\nEmissions: 371 Kg C...\n",
       "2910                            Flight Details\\neCash 250\n",
       "2911                            Flight Details\\neCash 250\n",
       "2912                            Flight Details\\neCash 250\n",
       "Name: others, Length: 2913, dtype: object"
      ]
     },
     "execution_count": 29,
     "metadata": {},
     "output_type": "execute_result"
    }
   ],
   "source": [
    "#viewing others column\n",
    "df['others']"
   ]
  },
  {
   "cell_type": "code",
   "execution_count": 30,
   "id": "82dc8b44",
   "metadata": {},
   "outputs": [],
   "source": [
    "#split the column\n",
    "df[['details','meal_provision','emission','ecash']]=df['others'].str.split('\\n',expand=True)"
   ]
  },
  {
   "cell_type": "code",
   "execution_count": 31,
   "id": "09f5df2a",
   "metadata": {},
   "outputs": [
    {
     "data": {
      "text/plain": [
       "Flight Details    2913\n",
       "Name: details, dtype: int64"
      ]
     },
     "execution_count": 31,
     "metadata": {},
     "output_type": "execute_result"
    }
   ],
   "source": [
    "#viewing the details column\n",
    "df['details'].value_counts()"
   ]
  },
  {
   "cell_type": "code",
   "execution_count": 32,
   "id": "69a22746",
   "metadata": {},
   "outputs": [],
   "source": [
    "#drop the column details\n",
    "df.drop('details',axis=1,inplace=True)"
   ]
  },
  {
   "cell_type": "code",
   "execution_count": 33,
   "id": "6cc32e8c",
   "metadata": {},
   "outputs": [],
   "source": [
    "#drop the column others\n",
    "df.drop('others',axis=1,inplace=True)"
   ]
  },
  {
   "cell_type": "code",
   "execution_count": 34,
   "id": "3139adcd",
   "metadata": {},
   "outputs": [
    {
     "data": {
      "text/plain": [
       "Free Meal                1185\n",
       "eCash 250                1050\n",
       "No Meal Fare              624\n",
       "Emissions: 109 Kg CO2      41\n",
       "Emissions: 142 Kg CO2      13\n",
       "Name: meal_provision, dtype: int64"
      ]
     },
     "execution_count": 34,
     "metadata": {},
     "output_type": "execute_result"
    }
   ],
   "source": [
    "#View meal details\n",
    "df['meal_provision'].value_counts()"
   ]
  },
  {
   "cell_type": "code",
   "execution_count": 40,
   "id": "01bc8ced",
   "metadata": {},
   "outputs": [],
   "source": [
    "meal=[]\n",
    "for i in df['meal_provision']:\n",
    "    if i=='Free Meal' or i=='No Meal Fare':\n",
    "        j='Free Meal'\n",
    "    else:\n",
    "        j='Paid Meal'\n",
    "    \n",
    "    meal.append(j)\n",
    "    \n",
    "df['meal_provision']=meal"
   ]
  },
  {
   "cell_type": "code",
   "execution_count": 41,
   "id": "583ced9b",
   "metadata": {},
   "outputs": [
    {
     "data": {
      "text/plain": [
       "Free Meal    1809\n",
       "Paid Meal    1104\n",
       "Name: meal_provision, dtype: int64"
      ]
     },
     "execution_count": 41,
     "metadata": {},
     "output_type": "execute_result"
    },
    {
     "data": {
      "image/png": "[encoded data removed]",
      "text/plain": [
       "<Figure size 432x288 with 1 Axes>"
      ]
     },
     "metadata": {
      "needs_background": "light"
     },
     "output_type": "display_data"
    }
   ],
   "source": [
    "sns.countplot(df['meal_provision'])\n",
    "df['meal_provision'].value_counts()"
   ]
  },
  {
   "cell_type": "markdown",
   "id": "dd506738",
   "metadata": {},
   "source": [
    "we can see most of the flights providing the free meal"
   ]
  },
  {
   "cell_type": "code",
   "execution_count": 42,
   "id": "2eba876f",
   "metadata": {},
   "outputs": [],
   "source": [
    "#dropping other columns \n",
    "df.drop(['emission','ecash'],axis=1,inplace=True)"
   ]
  },
  {
   "cell_type": "code",
   "execution_count": 45,
   "id": "b2d0146c",
   "metadata": {
    "scrolled": true
   },
   "outputs": [
    {
     "data": {
      "text/plain": [
       "Sat    1328\n",
       "Wed     470\n",
       "Fri     451\n",
       "Thu     437\n",
       "Tue      85\n",
       "Mon      74\n",
       "Sun      68\n",
       "Name: day, dtype: int64"
      ]
     },
     "execution_count": 45,
     "metadata": {},
     "output_type": "execute_result"
    },
    {
     "data": {
      "image/png": "[encoded data removed]",
      "text/plain": [
       "<Figure size 432x288 with 1 Axes>"
      ]
     },
     "metadata": {
      "needs_background": "light"
     },
     "output_type": "display_data"
    }
   ],
   "source": [
    "#Day column\n",
    "sns.countplot(df['day'])\n",
    "df['day'].value_counts()"
   ]
  },
  {
   "cell_type": "markdown",
   "id": "92a5c687",
   "metadata": {},
   "source": [
    "data we had consists of flights more on saturday and least on sunday"
   ]
  },
  {
   "cell_type": "code",
   "execution_count": 47,
   "id": "864d612e",
   "metadata": {},
   "outputs": [
    {
     "data": {
      "text/plain": [
       " 5 Feb     1328\n",
       " 2 Feb      470\n",
       " 4 Feb      451\n",
       " 3 Feb      437\n",
       " 1 Feb       85\n",
       " 31 Jan      74\n",
       " 30 Jan      68\n",
       "Name: date, dtype: int64"
      ]
     },
     "execution_count": 47,
     "metadata": {},
     "output_type": "execute_result"
    }
   ],
   "source": [
    "#Viewing the column date\n",
    "df['date'].value_counts()"
   ]
  },
  {
   "cell_type": "code",
   "execution_count": 53,
   "id": "6bbca2f5",
   "metadata": {},
   "outputs": [
    {
     "data": {
      "text/html": [
       "<div>\n",
       "<style scoped>\n",
       "    .dataframe tbody tr th:only-of-type {\n",
       "        vertical-align: middle;\n",
       "    }\n",
       "\n",
       "    .dataframe tbody tr th {\n",
       "        vertical-align: top;\n",
       "    }\n",
       "\n",
       "    .dataframe thead th {\n",
       "        text-align: right;\n",
       "    }\n",
       "</style>\n",
       "<table border=\"1\" class=\"dataframe\">\n",
       "  <thead>\n",
       "    <tr style=\"text-align: right;\">\n",
       "      <th></th>\n",
       "      <th>0</th>\n",
       "      <th>1</th>\n",
       "      <th>2</th>\n",
       "    </tr>\n",
       "  </thead>\n",
       "  <tbody>\n",
       "    <tr>\n",
       "      <th>0</th>\n",
       "      <td></td>\n",
       "      <td>30</td>\n",
       "      <td>Jan</td>\n",
       "    </tr>\n",
       "    <tr>\n",
       "      <th>1</th>\n",
       "      <td></td>\n",
       "      <td>30</td>\n",
       "      <td>Jan</td>\n",
       "    </tr>\n",
       "    <tr>\n",
       "      <th>2</th>\n",
       "      <td></td>\n",
       "      <td>30</td>\n",
       "      <td>Jan</td>\n",
       "    </tr>\n",
       "    <tr>\n",
       "      <th>3</th>\n",
       "      <td></td>\n",
       "      <td>30</td>\n",
       "      <td>Jan</td>\n",
       "    </tr>\n",
       "    <tr>\n",
       "      <th>4</th>\n",
       "      <td></td>\n",
       "      <td>30</td>\n",
       "      <td>Jan</td>\n",
       "    </tr>\n",
       "    <tr>\n",
       "      <th>...</th>\n",
       "      <td>...</td>\n",
       "      <td>...</td>\n",
       "      <td>...</td>\n",
       "    </tr>\n",
       "    <tr>\n",
       "      <th>2908</th>\n",
       "      <td></td>\n",
       "      <td>5</td>\n",
       "      <td>Feb</td>\n",
       "    </tr>\n",
       "    <tr>\n",
       "      <th>2909</th>\n",
       "      <td></td>\n",
       "      <td>5</td>\n",
       "      <td>Feb</td>\n",
       "    </tr>\n",
       "    <tr>\n",
       "      <th>2910</th>\n",
       "      <td></td>\n",
       "      <td>5</td>\n",
       "      <td>Feb</td>\n",
       "    </tr>\n",
       "    <tr>\n",
       "      <th>2911</th>\n",
       "      <td></td>\n",
       "      <td>5</td>\n",
       "      <td>Feb</td>\n",
       "    </tr>\n",
       "    <tr>\n",
       "      <th>2912</th>\n",
       "      <td></td>\n",
       "      <td>5</td>\n",
       "      <td>Feb</td>\n",
       "    </tr>\n",
       "  </tbody>\n",
       "</table>\n",
       "<p>2913 rows × 3 columns</p>\n",
       "</div>"
      ],
      "text/plain": [
       "     0    1    2\n",
       "0        30  Jan\n",
       "1        30  Jan\n",
       "2        30  Jan\n",
       "3        30  Jan\n",
       "4        30  Jan\n",
       "...  ..  ..  ...\n",
       "2908      5  Feb\n",
       "2909      5  Feb\n",
       "2910      5  Feb\n",
       "2911      5  Feb\n",
       "2912      5  Feb\n",
       "\n",
       "[2913 rows x 3 columns]"
      ]
     },
     "execution_count": 53,
     "metadata": {},
     "output_type": "execute_result"
    }
   ],
   "source": [
    "x=df['date'].str.split(' ',expand=True)\n",
    "x"
   ]
  },
  {
   "cell_type": "code",
   "execution_count": 57,
   "id": "e8ad61d0",
   "metadata": {},
   "outputs": [],
   "source": [
    "#Considering only date\n",
    "df['date']=x[1]"
   ]
  },
  {
   "cell_type": "code",
   "execution_count": 59,
   "id": "2638ae44",
   "metadata": {},
   "outputs": [
    {
     "data": {
      "text/plain": [
       "Morning        1034\n",
       "Afternoon       852\n",
       "Evening         555\n",
       "Early Hours     472\n",
       "Name: day slot, dtype: int64"
      ]
     },
     "execution_count": 59,
     "metadata": {},
     "output_type": "execute_result"
    },
    {
     "data": {
      "image/png": "[encoded data removed]",
      "text/plain": [
       "<Figure size 432x288 with 1 Axes>"
      ]
     },
     "metadata": {
      "needs_background": "light"
     },
     "output_type": "display_data"
    }
   ],
   "source": [
    "#day slot \n",
    "sns.countplot(df['day slot'])\n",
    "df['day slot'].value_counts()"
   ]
  },
  {
   "cell_type": "markdown",
   "id": "7cee8abc",
   "metadata": {},
   "source": [
    "very few flights in early hours compared to other times"
   ]
  },
  {
   "cell_type": "code",
   "execution_count": 58,
   "id": "bee067cd",
   "metadata": {
    "scrolled": true
   },
   "outputs": [
    {
     "data": {
      "text/plain": [
       "Index(['airline', 'departure_city', 'stops', 'destination_city', 'price',\n",
       "       'day', 'date', 'duration_in_min', 'day slot', 'meal_provision'],\n",
       "      dtype='object')"
      ]
     },
     "execution_count": 58,
     "metadata": {},
     "output_type": "execute_result"
    }
   ],
   "source": [
    "df.columns"
   ]
  },
  {
   "cell_type": "markdown",
   "id": "9a7b3d94",
   "metadata": {},
   "source": [
    "## Analysing price trends wrt to other factors"
   ]
  },
  {
   "cell_type": "code",
   "execution_count": 61,
   "id": "492a91b3",
   "metadata": {},
   "outputs": [
    {
     "data": {
      "text/plain": [
       "(array([0, 1, 2, 3, 4]),\n",
       " [Text(0, 0, 'Go First'),\n",
       "  Text(1, 0, 'IndiGo'),\n",
       "  Text(2, 0, 'Vistara'),\n",
       "  Text(3, 0, 'Air India'),\n",
       "  Text(4, 0, 'SpiceJet')])"
      ]
     },
     "execution_count": 61,
     "metadata": {},
     "output_type": "execute_result"
    },
    {
     "data": {
      "text/plain": [
       "<Figure size 1296x1296 with 0 Axes>"
      ]
     },
     "metadata": {},
     "output_type": "display_data"
    },
    {
     "data": {
      "image/png": "[encoded data removed]",
      "text/plain": [
       "<Figure size 864x288 with 1 Axes>"
      ]
     },
     "metadata": {},
     "output_type": "display_data"
    }
   ],
   "source": [
    "sns.set()\n",
    "plt.figure(figsize=(18,18))\n",
    "sns.catplot(x='airline', y='price',data=df,kind='boxen', height=4,aspect=3)\n",
    "plt.xticks(rotation=90)"
   ]
  },
  {
   "cell_type": "markdown",
   "id": "8d4f8bda",
   "metadata": {},
   "source": [
    "Based on provider, vistara is charging highest price"
   ]
  },
  {
   "cell_type": "code",
   "execution_count": 64,
   "id": "5d4cef24",
   "metadata": {},
   "outputs": [
    {
     "data": {
      "text/plain": [
       "(array([0, 1, 2, 3, 4]),\n",
       " [Text(0, 0, 'Go First'),\n",
       "  Text(1, 0, 'IndiGo'),\n",
       "  Text(2, 0, 'Vistara'),\n",
       "  Text(3, 0, 'Air India'),\n",
       "  Text(4, 0, 'SpiceJet')])"
      ]
     },
     "execution_count": 64,
     "metadata": {},
     "output_type": "execute_result"
    },
    {
     "data": {
      "text/plain": [
       "<Figure size 1296x1296 with 0 Axes>"
      ]
     },
     "metadata": {},
     "output_type": "display_data"
    },
    {
     "data": {
      "image/png": "[encoded data removed]",
      "text/plain": [
       "<Figure size 1341.72x432 with 1 Axes>"
      ]
     },
     "metadata": {},
     "output_type": "display_data"
    }
   ],
   "source": [
    "sns.set()\n",
    "plt.figure(figsize=(18,18))\n",
    "sns.catplot(x='airline', y='price',data=df,hue='stops',kind='boxen', height=6,aspect=3)\n",
    "plt.xticks(rotation=90)"
   ]
  },
  {
   "cell_type": "markdown",
   "id": "3625a1cd",
   "metadata": {},
   "source": [
    "From above we can see, with increase in stops, price also increases. \n",
    "Only air india had 3 & 4 stops"
   ]
  },
  {
   "cell_type": "code",
   "execution_count": 68,
   "id": "650d755d",
   "metadata": {},
   "outputs": [
    {
     "data": {
      "text/plain": [
       "(array([0, 1, 2, 3, 4]),\n",
       " [Text(0, 0, 'Go First'),\n",
       "  Text(1, 0, 'IndiGo'),\n",
       "  Text(2, 0, 'Vistara'),\n",
       "  Text(3, 0, 'Air India'),\n",
       "  Text(4, 0, 'SpiceJet')])"
      ]
     },
     "execution_count": 68,
     "metadata": {},
     "output_type": "execute_result"
    },
    {
     "data": {
      "image/png": "[encoded data removed]",
      "text/plain": [
       "<Figure size 1845.72x360 with 5 Axes>"
      ]
     },
     "metadata": {},
     "output_type": "display_data"
    }
   ],
   "source": [
    "sns.set()\n",
    "sns.catplot(x='airline', y='price',data=df,hue='stops',col='departure_city',kind='bar')\n",
    "plt.xticks(rotation=90)"
   ]
  },
  {
   "cell_type": "code",
   "execution_count": null,
   "id": "ca365789",
   "metadata": {},
   "outputs": [],
   "source": [
    "Observations:\n",
    "    No spice jet flights from Hydeabad to Mumbai\n",
    "    Air india have flights with 0 stops to 4 stops in between. With less fare for flight with 0 stops.\n",
    "    Vistara is charging highest fare from any city, any no. of stops compared to other providers"
   ]
  },
  {
   "cell_type": "code",
   "execution_count": 71,
   "id": "fafe296a",
   "metadata": {
    "scrolled": true
   },
   "outputs": [
    {
     "data": {
      "text/plain": [
       "(array([0, 1, 2, 3, 4]),\n",
       " [Text(0, 0, 'Go First'),\n",
       "  Text(1, 0, 'IndiGo'),\n",
       "  Text(2, 0, 'Vistara'),\n",
       "  Text(3, 0, 'Air India'),\n",
       "  Text(4, 0, 'SpiceJet')])"
      ]
     },
     "execution_count": 71,
     "metadata": {},
     "output_type": "execute_result"
    },
    {
     "data": {
      "text/plain": [
       "<Figure size 1800x1800 with 0 Axes>"
      ]
     },
     "metadata": {},
     "output_type": "display_data"
    },
    {
     "data": {
      "image/png": "[encoded data removed]",
      "text/plain": [
       "<Figure size 2688.97x432 with 2 Axes>"
      ]
     },
     "metadata": {},
     "output_type": "display_data"
    }
   ],
   "source": [
    "sns.set()\n",
    "plt.figure(figsize=(25,25))\n",
    "sns.catplot(x='airline', y='price',data=df,hue='day slot',col='meal_provision',kind='boxen', height=6,aspect=3)\n",
    "plt.xticks(rotation=90)"
   ]
  },
  {
   "cell_type": "raw",
   "id": "644f00b8",
   "metadata": {},
   "source": [
    "vistara & airindia are providing free meal, irrespective of hours. \n",
    "where as other providers not providing the meal. \n",
    "So the cost of these two providers are bit higher than others."
   ]
  },
  {
   "cell_type": "code",
   "execution_count": 135,
   "id": "5d3da895",
   "metadata": {},
   "outputs": [
    {
     "data": {
      "text/plain": [
       "(array([0, 1, 2, 3]),\n",
       " [Text(0, 0, 'Evening'),\n",
       "  Text(1, 0, 'Morning'),\n",
       "  Text(2, 0, 'Afternoon'),\n",
       "  Text(3, 0, 'Early Hours')])"
      ]
     },
     "execution_count": 135,
     "metadata": {},
     "output_type": "execute_result"
    },
    {
     "data": {
      "text/plain": [
       "<Figure size 1800x1800 with 0 Axes>"
      ]
     },
     "metadata": {},
     "output_type": "display_data"
    },
    {
     "data": {
      "image/png": "[encoded data removed]",
      "text/plain": [
       "<Figure size 1296x432 with 1 Axes>"
      ]
     },
     "metadata": {},
     "output_type": "display_data"
    }
   ],
   "source": [
    "sns.set()\n",
    "plt.figure(figsize=(25,25))\n",
    "sns.catplot(x='day slot', y='price',data=df,kind='boxen', height=6,aspect=3)\n",
    "plt.xticks(rotation=90)"
   ]
  },
  {
   "cell_type": "code",
   "execution_count": null,
   "id": "5195d6b8",
   "metadata": {},
   "outputs": [],
   "source": [
    "We can observe 50% of flight fares are higher in early hours  & morining"
   ]
  },
  {
   "cell_type": "code",
   "execution_count": 77,
   "id": "5ae7a751",
   "metadata": {},
   "outputs": [
    {
     "data": {
      "text/plain": [
       "(array([-500.,    0.,  500., 1000., 1500., 2000., 2500., 3000.]),\n",
       " [Text(0, 0, ''),\n",
       "  Text(0, 0, ''),\n",
       "  Text(0, 0, ''),\n",
       "  Text(0, 0, ''),\n",
       "  Text(0, 0, ''),\n",
       "  Text(0, 0, ''),\n",
       "  Text(0, 0, ''),\n",
       "  Text(0, 0, '')])"
      ]
     },
     "execution_count": 77,
     "metadata": {},
     "output_type": "execute_result"
    },
    {
     "data": {
      "image/png": "[encoded data removed]",
      "text/plain": [
       "<Figure size 432x288 with 1 Axes>"
      ]
     },
     "metadata": {},
     "output_type": "display_data"
    }
   ],
   "source": [
    "sns.set()\n",
    "sns.scatterplot(x='duration_in_min', y='price',data=df)\n",
    "plt.xticks(rotation=90)"
   ]
  },
  {
   "cell_type": "markdown",
   "id": "ff8a9b8f",
   "metadata": {},
   "source": [
    "There is no standard relation or inference, with increase in duration, price also increases. Wrt to stops , journey time will also increase"
   ]
  },
  {
   "cell_type": "code",
   "execution_count": 86,
   "id": "416d8c67",
   "metadata": {},
   "outputs": [
    {
     "data": {
      "text/plain": [
       "(array([0, 1, 2, 3, 4, 5, 6]),\n",
       " [Text(0, 0, 'Sun'),\n",
       "  Text(1, 0, 'Mon'),\n",
       "  Text(2, 0, 'Tue'),\n",
       "  Text(3, 0, 'Wed'),\n",
       "  Text(4, 0, 'Thu'),\n",
       "  Text(5, 0, 'Fri'),\n",
       "  Text(6, 0, 'Sat')])"
      ]
     },
     "execution_count": 86,
     "metadata": {},
     "output_type": "execute_result"
    },
    {
     "data": {
      "text/plain": [
       "<Figure size 1800x1800 with 0 Axes>"
      ]
     },
     "metadata": {},
     "output_type": "display_data"
    },
    {
     "data": {
      "image/png": "[encoded data removed]",
      "text/plain": [
       "<Figure size 1296x432 with 1 Axes>"
      ]
     },
     "metadata": {},
     "output_type": "display_data"
    }
   ],
   "source": [
    "sns.set()\n",
    "plt.figure(figsize=(25,25))\n",
    "sns.catplot(x='day', y='price',data=df,kind='boxen', height=6,aspect=3)\n",
    "plt.xticks(rotation=90)"
   ]
  },
  {
   "cell_type": "markdown",
   "id": "ce6fe957",
   "metadata": {},
   "source": [
    "Prices of tickets are higher on saturday and on mid of week, and last moment bookings."
   ]
  },
  {
   "cell_type": "code",
   "execution_count": 87,
   "id": "45c21a9d",
   "metadata": {
    "scrolled": true
   },
   "outputs": [
    {
     "data": {
      "text/plain": [
       "Index(['airline', 'departure_city', 'stops', 'destination_city', 'price',\n",
       "       'day', 'date', 'duration_in_min', 'day slot', 'meal_provision'],\n",
       "      dtype='object')"
      ]
     },
     "execution_count": 87,
     "metadata": {},
     "output_type": "execute_result"
    }
   ],
   "source": [
    "df.columns"
   ]
  },
  {
   "cell_type": "code",
   "execution_count": 88,
   "id": "dec3a6bc",
   "metadata": {},
   "outputs": [],
   "source": [
    "df_new=df.copy(deep=True)"
   ]
  },
  {
   "cell_type": "code",
   "execution_count": 89,
   "id": "acfdcb74",
   "metadata": {},
   "outputs": [
    {
     "data": {
      "text/html": [
       "<div>\n",
       "<style scoped>\n",
       "    .dataframe tbody tr th:only-of-type {\n",
       "        vertical-align: middle;\n",
       "    }\n",
       "\n",
       "    .dataframe tbody tr th {\n",
       "        vertical-align: top;\n",
       "    }\n",
       "\n",
       "    .dataframe thead th {\n",
       "        text-align: right;\n",
       "    }\n",
       "</style>\n",
       "<table border=\"1\" class=\"dataframe\">\n",
       "  <thead>\n",
       "    <tr style=\"text-align: right;\">\n",
       "      <th></th>\n",
       "      <th>airline</th>\n",
       "      <th>departure_city</th>\n",
       "      <th>stops</th>\n",
       "      <th>destination_city</th>\n",
       "      <th>price</th>\n",
       "      <th>day</th>\n",
       "      <th>date</th>\n",
       "      <th>duration_in_min</th>\n",
       "      <th>day slot</th>\n",
       "      <th>meal_provision</th>\n",
       "    </tr>\n",
       "  </thead>\n",
       "  <tbody>\n",
       "    <tr>\n",
       "      <th>0</th>\n",
       "      <td>1</td>\n",
       "      <td>3</td>\n",
       "      <td>1</td>\n",
       "      <td>0</td>\n",
       "      <td>4452</td>\n",
       "      <td>3</td>\n",
       "      <td>3</td>\n",
       "      <td>315</td>\n",
       "      <td>2</td>\n",
       "      <td>1</td>\n",
       "    </tr>\n",
       "    <tr>\n",
       "      <th>1</th>\n",
       "      <td>1</td>\n",
       "      <td>3</td>\n",
       "      <td>1</td>\n",
       "      <td>0</td>\n",
       "      <td>4452</td>\n",
       "      <td>3</td>\n",
       "      <td>3</td>\n",
       "      <td>670</td>\n",
       "      <td>2</td>\n",
       "      <td>1</td>\n",
       "    </tr>\n",
       "    <tr>\n",
       "      <th>2</th>\n",
       "      <td>1</td>\n",
       "      <td>3</td>\n",
       "      <td>1</td>\n",
       "      <td>0</td>\n",
       "      <td>4452</td>\n",
       "      <td>3</td>\n",
       "      <td>3</td>\n",
       "      <td>705</td>\n",
       "      <td>2</td>\n",
       "      <td>1</td>\n",
       "    </tr>\n",
       "    <tr>\n",
       "      <th>3</th>\n",
       "      <td>2</td>\n",
       "      <td>3</td>\n",
       "      <td>0</td>\n",
       "      <td>0</td>\n",
       "      <td>4453</td>\n",
       "      <td>3</td>\n",
       "      <td>3</td>\n",
       "      <td>90</td>\n",
       "      <td>3</td>\n",
       "      <td>1</td>\n",
       "    </tr>\n",
       "    <tr>\n",
       "      <th>4</th>\n",
       "      <td>2</td>\n",
       "      <td>3</td>\n",
       "      <td>0</td>\n",
       "      <td>0</td>\n",
       "      <td>4453</td>\n",
       "      <td>3</td>\n",
       "      <td>3</td>\n",
       "      <td>95</td>\n",
       "      <td>3</td>\n",
       "      <td>1</td>\n",
       "    </tr>\n",
       "  </tbody>\n",
       "</table>\n",
       "</div>"
      ],
      "text/plain": [
       "   airline  departure_city  stops  destination_city  price  day  date  \\\n",
       "0        1               3      1                 0   4452    3     3   \n",
       "1        1               3      1                 0   4452    3     3   \n",
       "2        1               3      1                 0   4452    3     3   \n",
       "3        2               3      0                 0   4453    3     3   \n",
       "4        2               3      0                 0   4453    3     3   \n",
       "\n",
       "   duration_in_min  day slot  meal_provision  \n",
       "0              315         2               1  \n",
       "1              670         2               1  \n",
       "2              705         2               1  \n",
       "3               90         3               1  \n",
       "4               95         3               1  "
      ]
     },
     "execution_count": 89,
     "metadata": {},
     "output_type": "execute_result"
    }
   ],
   "source": [
    "#Encoding the columns\n",
    "from sklearn.preprocessing import LabelEncoder\n",
    "le=LabelEncoder()\n",
    "\n",
    "col=df.select_dtypes(include='object')\n",
    "for i in col:\n",
    "    df_new[i]=le.fit_transform(df[i])\n",
    "    \n",
    "df_new.head(5)"
   ]
  },
  {
   "cell_type": "code",
   "execution_count": 91,
   "id": "c9c8ab6e",
   "metadata": {},
   "outputs": [
    {
     "data": {
      "text/plain": [
       "airline               5\n",
       "departure_city        5\n",
       "stops                 5\n",
       "destination_city      1\n",
       "price               264\n",
       "day                   7\n",
       "date                  7\n",
       "duration_in_min     284\n",
       "day slot              4\n",
       "meal_provision        2\n",
       "dtype: int64"
      ]
     },
     "execution_count": 91,
     "metadata": {},
     "output_type": "execute_result"
    }
   ],
   "source": [
    "df_new.nunique()"
   ]
  },
  {
   "cell_type": "code",
   "execution_count": 92,
   "id": "7c363ed1",
   "metadata": {},
   "outputs": [
    {
     "data": {
      "text/html": [
       "<div>\n",
       "<style scoped>\n",
       "    .dataframe tbody tr th:only-of-type {\n",
       "        vertical-align: middle;\n",
       "    }\n",
       "\n",
       "    .dataframe tbody tr th {\n",
       "        vertical-align: top;\n",
       "    }\n",
       "\n",
       "    .dataframe thead th {\n",
       "        text-align: right;\n",
       "    }\n",
       "</style>\n",
       "<table border=\"1\" class=\"dataframe\">\n",
       "  <thead>\n",
       "    <tr style=\"text-align: right;\">\n",
       "      <th></th>\n",
       "      <th>airline</th>\n",
       "      <th>departure_city</th>\n",
       "      <th>stops</th>\n",
       "      <th>destination_city</th>\n",
       "      <th>price</th>\n",
       "      <th>day</th>\n",
       "      <th>date</th>\n",
       "      <th>duration_in_min</th>\n",
       "      <th>day slot</th>\n",
       "      <th>meal_provision</th>\n",
       "    </tr>\n",
       "  </thead>\n",
       "  <tbody>\n",
       "    <tr>\n",
       "      <th>count</th>\n",
       "      <td>2913.000000</td>\n",
       "      <td>2913.000000</td>\n",
       "      <td>2913.000000</td>\n",
       "      <td>2913.0</td>\n",
       "      <td>2913.000000</td>\n",
       "      <td>2913.000000</td>\n",
       "      <td>2913.000000</td>\n",
       "      <td>2913.000000</td>\n",
       "      <td>2913.000000</td>\n",
       "      <td>2913.000000</td>\n",
       "    </tr>\n",
       "    <tr>\n",
       "      <th>mean</th>\n",
       "      <td>1.594576</td>\n",
       "      <td>1.937521</td>\n",
       "      <td>1.129763</td>\n",
       "      <td>0.0</td>\n",
       "      <td>9311.452798</td>\n",
       "      <td>2.721250</td>\n",
       "      <td>4.142465</td>\n",
       "      <td>713.223481</td>\n",
       "      <td>1.607964</td>\n",
       "      <td>0.378991</td>\n",
       "    </tr>\n",
       "    <tr>\n",
       "      <th>std</th>\n",
       "      <td>1.581811</td>\n",
       "      <td>1.531562</td>\n",
       "      <td>0.776313</td>\n",
       "      <td>0.0</td>\n",
       "      <td>4406.497225</td>\n",
       "      <td>1.895597</td>\n",
       "      <td>2.121796</td>\n",
       "      <td>535.957146</td>\n",
       "      <td>1.238449</td>\n",
       "      <td>0.485219</td>\n",
       "    </tr>\n",
       "    <tr>\n",
       "      <th>min</th>\n",
       "      <td>0.000000</td>\n",
       "      <td>0.000000</td>\n",
       "      <td>0.000000</td>\n",
       "      <td>0.0</td>\n",
       "      <td>3635.000000</td>\n",
       "      <td>0.000000</td>\n",
       "      <td>0.000000</td>\n",
       "      <td>70.000000</td>\n",
       "      <td>0.000000</td>\n",
       "      <td>0.000000</td>\n",
       "    </tr>\n",
       "    <tr>\n",
       "      <th>25%</th>\n",
       "      <td>0.000000</td>\n",
       "      <td>0.000000</td>\n",
       "      <td>1.000000</td>\n",
       "      <td>0.0</td>\n",
       "      <td>5954.000000</td>\n",
       "      <td>2.000000</td>\n",
       "      <td>2.000000</td>\n",
       "      <td>320.000000</td>\n",
       "      <td>0.000000</td>\n",
       "      <td>0.000000</td>\n",
       "    </tr>\n",
       "    <tr>\n",
       "      <th>50%</th>\n",
       "      <td>1.000000</td>\n",
       "      <td>2.000000</td>\n",
       "      <td>1.000000</td>\n",
       "      <td>0.0</td>\n",
       "      <td>9141.000000</td>\n",
       "      <td>2.000000</td>\n",
       "      <td>5.000000</td>\n",
       "      <td>595.000000</td>\n",
       "      <td>2.000000</td>\n",
       "      <td>0.000000</td>\n",
       "    </tr>\n",
       "    <tr>\n",
       "      <th>75%</th>\n",
       "      <td>3.000000</td>\n",
       "      <td>3.000000</td>\n",
       "      <td>2.000000</td>\n",
       "      <td>0.0</td>\n",
       "      <td>11545.000000</td>\n",
       "      <td>4.000000</td>\n",
       "      <td>6.000000</td>\n",
       "      <td>930.000000</td>\n",
       "      <td>3.000000</td>\n",
       "      <td>1.000000</td>\n",
       "    </tr>\n",
       "    <tr>\n",
       "      <th>max</th>\n",
       "      <td>4.000000</td>\n",
       "      <td>4.000000</td>\n",
       "      <td>4.000000</td>\n",
       "      <td>0.0</td>\n",
       "      <td>33562.000000</td>\n",
       "      <td>6.000000</td>\n",
       "      <td>6.000000</td>\n",
       "      <td>2455.000000</td>\n",
       "      <td>3.000000</td>\n",
       "      <td>1.000000</td>\n",
       "    </tr>\n",
       "  </tbody>\n",
       "</table>\n",
       "</div>"
      ],
      "text/plain": [
       "           airline  departure_city        stops  destination_city  \\\n",
       "count  2913.000000     2913.000000  2913.000000            2913.0   \n",
       "mean      1.594576        1.937521     1.129763               0.0   \n",
       "std       1.581811        1.531562     0.776313               0.0   \n",
       "min       0.000000        0.000000     0.000000               0.0   \n",
       "25%       0.000000        0.000000     1.000000               0.0   \n",
       "50%       1.000000        2.000000     1.000000               0.0   \n",
       "75%       3.000000        3.000000     2.000000               0.0   \n",
       "max       4.000000        4.000000     4.000000               0.0   \n",
       "\n",
       "              price          day         date  duration_in_min     day slot  \\\n",
       "count   2913.000000  2913.000000  2913.000000      2913.000000  2913.000000   \n",
       "mean    9311.452798     2.721250     4.142465       713.223481     1.607964   \n",
       "std     4406.497225     1.895597     2.121796       535.957146     1.238449   \n",
       "min     3635.000000     0.000000     0.000000        70.000000     0.000000   \n",
       "25%     5954.000000     2.000000     2.000000       320.000000     0.000000   \n",
       "50%     9141.000000     2.000000     5.000000       595.000000     2.000000   \n",
       "75%    11545.000000     4.000000     6.000000       930.000000     3.000000   \n",
       "max    33562.000000     6.000000     6.000000      2455.000000     3.000000   \n",
       "\n",
       "       meal_provision  \n",
       "count     2913.000000  \n",
       "mean         0.378991  \n",
       "std          0.485219  \n",
       "min          0.000000  \n",
       "25%          0.000000  \n",
       "50%          0.000000  \n",
       "75%          1.000000  \n",
       "max          1.000000  "
      ]
     },
     "execution_count": 92,
     "metadata": {},
     "output_type": "execute_result"
    }
   ],
   "source": [
    "#Brief stats\n",
    "df_new.describe()"
   ]
  },
  {
   "cell_type": "raw",
   "id": "0e3b3bed",
   "metadata": {},
   "source": [
    "all the columns are categorical, so no need of correcting skewness \n",
    "min. fare of ticket is 3635 and max. price is 33562, which is so diferent nd skewness. Since it is target columns, leave as it is.\n",
    "outliers and skewness present in duration_in_min."
   ]
  },
  {
   "cell_type": "code",
   "execution_count": 93,
   "id": "2411a62e",
   "metadata": {
    "scrolled": true
   },
   "outputs": [
    {
     "data": {
      "text/plain": [
       "airline             0.480063\n",
       "departure_city      0.041419\n",
       "stops               0.476294\n",
       "destination_city    0.000000\n",
       "price               1.294229\n",
       "day                 0.430010\n",
       "date               -0.583886\n",
       "duration_in_min     0.967974\n",
       "day slot           -0.149370\n",
       "meal_provision      0.499125\n",
       "dtype: float64"
      ]
     },
     "execution_count": 93,
     "metadata": {},
     "output_type": "execute_result"
    }
   ],
   "source": [
    "#Viewing the skewness\n",
    "df_new.skew()"
   ]
  },
  {
   "cell_type": "markdown",
   "id": "d97aff56",
   "metadata": {},
   "source": [
    "Skewness is in acceptable range"
   ]
  },
  {
   "cell_type": "code",
   "execution_count": 97,
   "id": "1e8dfb21",
   "metadata": {},
   "outputs": [],
   "source": [
    "#Drop destination city\n",
    "df_new.drop('destination_city',axis=1,inplace=True)"
   ]
  },
  {
   "cell_type": "code",
   "execution_count": 98,
   "id": "751bd3d9",
   "metadata": {},
   "outputs": [
    {
     "data": {
      "text/plain": [
       "<AxesSubplot:>"
      ]
     },
     "execution_count": 98,
     "metadata": {},
     "output_type": "execute_result"
    },
    {
     "data": {
      "image/png": "[encoded data removed]",
      "text/plain": [
       "<Figure size 720x576 with 2 Axes>"
      ]
     },
     "metadata": {},
     "output_type": "display_data"
    }
   ],
   "source": [
    "#Visualise the relation\n",
    "plt.figure(figsize=(10,8))\n",
    "sns.heatmap(df_new.corr(), annot=True)"
   ]
  },
  {
   "cell_type": "raw",
   "id": "a1d9f444",
   "metadata": {},
   "source": [
    "we can see , day and date are highly -ve correlted to each other. We can drop one column.\n",
    "Price is highly correlated with stops, duration where stops and duration also dependent on each other. \n",
    "Dropping the columns day, and duration as with increase in stops duration increases also based on distance. "
   ]
  },
  {
   "cell_type": "code",
   "execution_count": 99,
   "id": "799340a2",
   "metadata": {},
   "outputs": [],
   "source": [
    "df_new.drop(['day','duration_in_min'],axis=1,inplace=True)"
   ]
  },
  {
   "cell_type": "code",
   "execution_count": 100,
   "id": "e2942ad9",
   "metadata": {},
   "outputs": [
    {
     "data": {
      "text/plain": [
       "Index(['airline', 'departure_city', 'stops', 'price', 'date', 'day slot',\n",
       "       'meal_provision'],\n",
       "      dtype='object')"
      ]
     },
     "execution_count": 100,
     "metadata": {},
     "output_type": "execute_result"
    }
   ],
   "source": [
    "df_new.columns"
   ]
  },
  {
   "cell_type": "code",
   "execution_count": 101,
   "id": "ce7a432b",
   "metadata": {},
   "outputs": [],
   "source": [
    "#Splitting the features and target\n",
    "x=df_new.drop('price',axis=1)\n",
    "y=df_new['price']"
   ]
  },
  {
   "cell_type": "code",
   "execution_count": 109,
   "id": "bb00f2e2",
   "metadata": {},
   "outputs": [],
   "source": [
    "from sklearn.preprocessing import StandardScaler\n",
    "sc=StandardScaler()\n",
    "x_scaled=sc.fit_transform(x)"
   ]
  },
  {
   "cell_type": "code",
   "execution_count": 110,
   "id": "8bae600b",
   "metadata": {},
   "outputs": [
    {
     "name": "stdout",
     "output_type": "stream",
     "text": [
      "Best r2 socre: 0.66413774687561 \n",
      "at random state 360\n",
      "train score is 0.5725048777593638\n",
      "test score is 0.66413774687561\n"
     ]
    }
   ],
   "source": [
    "#Finding the best random state\n",
    "from sklearn.linear_model import LinearRegression\n",
    "from sklearn.metrics import r2_score, mean_squared_error\n",
    "from sklearn.model_selection import train_test_split\n",
    "from sklearn.metrics import r2_score,mean_squared_error\n",
    "r2=0\n",
    "rs=0\n",
    "sc=0\n",
    "sc1=0\n",
    "lr=LinearRegression()\n",
    "for i in range(1000):\n",
    "    x_train,x_test,y_train,y_test=train_test_split(x_scaled,y,test_size=0.25,random_state=i)\n",
    "    lr.fit(x_train,y_train)\n",
    "    score=lr.score(x_train,y_train)\n",
    "    score1=lr.score(x_test,y_test)\n",
    "    pred=lr.predict(x_test)\n",
    "    r2s=r2_score(y_test,pred)\n",
    "    if r2s>r2:\n",
    "        r2=r2s\n",
    "        rs=i\n",
    "        sc=score\n",
    "        sc1=score1\n",
    "print(f'Best r2 socre: {r2} \\nat random state {rs}\\ntrain score is {sc}\\ntest score is {sc1}')\n",
    "    "
   ]
  },
  {
   "cell_type": "markdown",
   "id": "ac5403d1",
   "metadata": {},
   "source": [
    "We can see there is some difference between train & test scores, so there is problem of overfit or underfit"
   ]
  },
  {
   "cell_type": "code",
   "execution_count": 111,
   "id": "06a55b81",
   "metadata": {},
   "outputs": [],
   "source": [
    "#Splitting the data at best random state\n",
    "x_train,x_test,y_train,y_test=train_test_split(x_scaled,y,test_size=0.25,random_state=360)"
   ]
  },
  {
   "cell_type": "code",
   "execution_count": 106,
   "id": "fd175223",
   "metadata": {},
   "outputs": [],
   "source": [
    "#Importing diferent models to predict\n",
    "from sklearn.svm import SVR\n",
    "from sklearn.tree import DecisionTreeRegressor\n",
    "from sklearn.ensemble import RandomForestRegressor\n",
    "from sklearn.ensemble import GradientBoostingRegressor\n",
    "from sklearn.model_selection import cross_val_score,KFold"
   ]
  },
  {
   "cell_type": "code",
   "execution_count": 112,
   "id": "f79f4c8e",
   "metadata": {},
   "outputs": [
    {
     "name": "stdout",
     "output_type": "stream",
     "text": [
      "r2 score of LinearRegression(): 0.66413774687561\n",
      "mean cv score of LinearRegression(): 0.43708967663692083\n",
      "\n",
      "\n",
      "r2 score of SVR(): 0.04931935885740746\n",
      "mean cv score of SVR(): -0.07018939435100184\n",
      "\n",
      "\n",
      "r2 score of DecisionTreeRegressor(): 0.8294312663043426\n",
      "mean cv score of DecisionTreeRegressor(): 0.2024565916754934\n",
      "\n",
      "\n",
      "r2 score of RandomForestRegressor(): 0.8616262360248189\n",
      "mean cv score of RandomForestRegressor(): 0.316497938942874\n",
      "\n",
      "\n",
      "r2 score of GradientBoostingRegressor(): 0.8200925820933807\n",
      "mean cv score of GradientBoostingRegressor(): 0.4576541896485054\n",
      "\n",
      "\n"
     ]
    }
   ],
   "source": [
    "models=[LinearRegression(),SVR(),DecisionTreeRegressor(),RandomForestRegressor(),GradientBoostingRegressor()]\n",
    "for m in models:\n",
    "    m.fit(x_train,y_train)\n",
    "    predm=m.predict(x_test)\n",
    "    print(f'r2 score of {m}:', r2_score(y_test,predm))\n",
    "    cvscore=cross_val_score(m,x_scaled,y, cv=5)\n",
    "    print(f'mean cv score of {m}:',cvscore.mean())\n",
    "    print('\\n')"
   ]
  },
  {
   "cell_type": "markdown",
   "id": "088769dc",
   "metadata": {},
   "source": [
    "we can see linear regression is giving the best, compared to other models"
   ]
  },
  {
   "cell_type": "code",
   "execution_count": 113,
   "id": "270fbac3",
   "metadata": {},
   "outputs": [
    {
     "name": "stdout",
     "output_type": "stream",
     "text": [
      "r2 score: 0.66413774687561\n",
      "mean squared error: 5797376.894125692\n"
     ]
    }
   ],
   "source": [
    "lr= LinearRegression()\n",
    "lr.fit(x_train,y_train)\n",
    "predm=lr.predict(x_test)\n",
    "print(f'r2 score:', r2_score(y_test,predm))\n",
    "print('mean squared error:',mean_squared_error(y_test,predm))"
   ]
  },
  {
   "cell_type": "markdown",
   "id": "13aac82b",
   "metadata": {},
   "source": [
    "The model is only 66% accurate."
   ]
  },
  {
   "cell_type": "code",
   "execution_count": 115,
   "id": "c75e6bb2",
   "metadata": {},
   "outputs": [
    {
     "data": {
      "text/plain": [
       "<AxesSubplot:xlabel='price', ylabel='Density'>"
      ]
     },
     "execution_count": 115,
     "metadata": {},
     "output_type": "execute_result"
    },
    {
     "data": {
      "image/png": "[encoded data removed]",
      "text/plain": [
       "<Figure size 432x288 with 1 Axes>"
      ]
     },
     "metadata": {},
     "output_type": "display_data"
    }
   ],
   "source": [
    "sns.distplot(y_test-predm)"
   ]
  },
  {
   "cell_type": "code",
   "execution_count": 116,
   "id": "0a9d5fca",
   "metadata": {},
   "outputs": [
    {
     "data": {
      "text/plain": [
       "<AxesSubplot:xlabel='price'>"
      ]
     },
     "execution_count": 116,
     "metadata": {},
     "output_type": "execute_result"
    },
    {
     "data": {
      "image/png": "[encoded data removed]",
      "text/plain": [
       "<Figure size 432x288 with 1 Axes>"
      ]
     },
     "metadata": {},
     "output_type": "display_data"
    }
   ],
   "source": [
    "sns.regplot(y_test,predm)"
   ]
  },
  {
   "cell_type": "code",
   "execution_count": 117,
   "id": "5a1cf569",
   "metadata": {},
   "outputs": [],
   "source": [
    "#saving the model\n",
    "import pickle\n",
    "file=open('Flight_fare.pkl','wb')\n",
    "pickle.dump(lr,file)"
   ]
  },
  {
   "cell_type": "markdown",
   "id": "cffe30c1",
   "metadata": {},
   "source": [
    "model is saved successfully"
   ]
  },
  {
   "cell_type": "code",
   "execution_count": 134,
   "id": "993acf46",
   "metadata": {},
   "outputs": [
    {
     "data": {
      "text/plain": [
       "Index(['airline', 'departure_city', 'stops', 'date', 'day slot',\n",
       "       'meal_provision'],\n",
       "      dtype='object')"
      ]
     },
     "execution_count": 134,
     "metadata": {},
     "output_type": "execute_result"
    }
   ],
   "source": [
    "x.columns"
   ]
  },
  {
   "cell_type": "markdown",
   "id": "79f9fba4",
   "metadata": {},
   "source": [
    "These are the inputs to be given to model to predict price. By default destination city is assumed to be mumbai."
   ]
  }
 ],
 "metadata": {
  "kernelspec": {
   "display_name": "Python 3 (ipykernel)",
   "language": "python",
   "name": "python3"
  },
  "language_info": {
   "codemirror_mode": {
    "name": "ipython",
    "version": 3
   },
   "file_extension": ".py",
   "mimetype": "text/x-python",
   "name": "python",
   "nbconvert_exporter": "python",
   "pygments_lexer": "ipython3",
   "version": "3.9.7"
  }
 },
 "nbformat": 4,
 "nbformat_minor": 5
}
